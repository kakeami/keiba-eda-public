{
 "cells": [
  {
   "cell_type": "markdown",
   "id": "ad606451-7d8e-4599-ba3b-7ebb7300c1a9",
   "metadata": {},
   "source": [
    "# 考察\n",
    "\n",
    "極端に上がりの速さが遅いクラスターの分析を行う．"
   ]
  },
  {
   "cell_type": "markdown",
   "id": "6b346e00-8f30-49d4-862d-da3f6fff73df",
   "metadata": {},
   "source": [
    "## 環境構築"
   ]
  },
  {
   "cell_type": "code",
   "execution_count": 1,
   "id": "c57dc2b3-bd41-4bde-a0eb-e2938545006a",
   "metadata": {},
   "outputs": [],
   "source": [
    "# Notebook初期設定\n",
    "%matplotlib inline\n",
    "%config InlineBackend.figure_format = 'retina'\n",
    "\n",
    "import warnings\n",
    "warnings.filterwarnings('ignore')"
   ]
  },
  {
   "cell_type": "code",
   "execution_count": 2,
   "id": "1b5c97a8-8183-4dee-8954-ba24aae5b4f1",
   "metadata": {},
   "outputs": [],
   "source": [
    "import os\n",
    "import pandas as pd\n",
    "from tqdm import tqdm_notebook as tqdm"
   ]
  },
  {
   "cell_type": "code",
   "execution_count": 3,
   "id": "4b80e970-f3ce-402a-a7eb-55b7cdcccfb4",
   "metadata": {},
   "outputs": [
    {
     "name": "stdout",
     "output_type": "stream",
     "text": [
      "Requirement already satisfied: plotly in /opt/conda/lib/python3.9/site-packages (5.3.1)\n",
      "Requirement already satisfied: six in /opt/conda/lib/python3.9/site-packages (from plotly) (1.16.0)\n",
      "Requirement already satisfied: tenacity>=6.2.0 in /opt/conda/lib/python3.9/site-packages (from plotly) (8.0.1)\n"
     ]
    }
   ],
   "source": [
    "# plotly関連\n",
    "!pip install plotly\n",
    "import plotly.express as px\n",
    "from plotly.subplots import make_subplots\n",
    "import plotly.graph_objects as go"
   ]
  },
  {
   "cell_type": "code",
   "execution_count": 4,
   "id": "50fb1e47-35d3-49bd-aa30-c5c41806e6f8",
   "metadata": {},
   "outputs": [],
   "source": [
    "DIR_IN = '../data/scatter_preprocess'\n",
    "DIR_OUT = '../data/scatter_discussion'"
   ]
  },
  {
   "cell_type": "code",
   "execution_count": 5,
   "id": "7c954b5a-b767-44a3-b28a-c775e0fbf291",
   "metadata": {},
   "outputs": [],
   "source": [
    "FN_ALL = 'all_res.csv'"
   ]
  },
  {
   "cell_type": "markdown",
   "id": "a6369012-8615-4826-a4a5-13b30dbb1ed8",
   "metadata": {},
   "source": [
    "## 事前分析"
   ]
  },
  {
   "cell_type": "code",
   "execution_count": 20,
   "id": "0568d56a-d97c-46c5-bbd5-85868359a820",
   "metadata": {},
   "outputs": [],
   "source": [
    "df_all = pd.read_csv(os.path.join(DIR_IN, FN_ALL))"
   ]
  },
  {
   "cell_type": "code",
   "execution_count": 49,
   "id": "ba8315e2-283d-464c-b316-5e8891526ef9",
   "metadata": {},
   "outputs": [],
   "source": [
    "# speed_3fのレースごとの最大値を抜き出す\n",
    "df_max_speed_3f = df_all.groupby('race_id')['speed_3f'].max().reset_index()\n",
    "# speed_3fの最大値が50km/h以下のrace_idを抽出\n",
    "raceids_slow_3f = \\\n",
    "    set(df_max_speed_3f[df_max_speed_3f['speed_3f'] < 50]['race_id'].unique())"
   ]
  },
  {
   "cell_type": "code",
   "execution_count": 50,
   "id": "85c7e007-9ab2-4115-91ff-f5b21a25736f",
   "metadata": {},
   "outputs": [],
   "source": [
    "df_tmp = df_all[df_all['race_id'].isin(raceids_slow_3f)].reset_index(drop=True)\n",
    "df_tmp = df_tmp.drop_duplicates('race_id', ignore_index=True)"
   ]
  },
  {
   "cell_type": "code",
   "execution_count": 51,
   "id": "3ebff361-f86a-4dbc-91c3-0fd6fc0f35b3",
   "metadata": {},
   "outputs": [
    {
     "data": {
      "text/plain": [
       "array(['優駿牝馬', '天皇賞(春)', '菊花賞', 'エリザベス女王杯', '神戸新聞杯', '宝塚記念', '毎日杯',\n",
       "       '阪神大賞典', 'ペガサスステークス', 'NHK杯', 'きさらぎ賞', '東京優駿', '毎日放送京都4歳特別',\n",
       "       '読売マイラーズカップ', 'スポニチ賞金杯', '桜花賞', 'サファイヤステークス', 'デイリー杯3歳S', '新潟記念',\n",
       "       '安田記念', '目黒記念', '鳴尾記念', 'アーリントンカップ', 'ラジオたんぱ杯3歳S', 'セントライト記念',\n",
       "       '日経新春杯', 'サンスポ4歳牝馬特別', '京都新聞杯', 'マイルチャンピオンS', '報知杯4歳牝馬特別', '阪急杯',\n",
       "       '京阪杯', 'NZT4歳S', '日刊スポシンザン記念', 'フェブラリーハンデ', '京王杯スプリングC',\n",
       "       'アルゼンチン共和国杯', 'ダイヤモンドS', 'サンスポ阪神牝馬特別', '産經大阪杯', 'ラジオたんぱ3歳牝S',\n",
       "       '報知杯弥生賞', '関屋記念', '皐月賞', '根岸ステークス', '京都大賞典', 'フジTVスプリングS',\n",
       "       'フラワーカップ', '京都記念', '阪神3歳牝馬S', 'エプソムカップ', '朝日チャレンジカップ',\n",
       "       'セントウルステークス', 'デイリー杯クイーンC', '新潟大賞典', 'サンケイ大阪杯', '東京新聞杯',\n",
       "       '阪神3歳ステークス', '関西TVローズS', '共同通信杯4歳S', 'サンケイオールカマー', '七夕賞',\n",
       "       'ジャパンカップ', '京成杯3歳ステークス', '牝馬東京タイムズ杯', 'クリスタルカップ', '京王杯オータムハンデ',\n",
       "       '京都牝馬特別', 'スワンステークス', '毎日王冠', 'スプリンターズS', '天皇賞(秋)', '中山牝馬ステークス',\n",
       "       'クイーンステークス', '中山記念', '日経賞'], dtype=object)"
      ]
     },
     "execution_count": 51,
     "metadata": {},
     "output_type": "execute_result"
    }
   ],
   "source": [
    "df_tmp['title'].unique()"
   ]
  },
  {
   "cell_type": "code",
   "execution_count": 52,
   "id": "4244b2cc-33ad-4a08-883f-dea230043c77",
   "metadata": {},
   "outputs": [
    {
     "data": {
      "text/plain": [
       "array(['東京', '京都', '阪神', '新潟'], dtype=object)"
      ]
     },
     "execution_count": 52,
     "metadata": {},
     "output_type": "execute_result"
    }
   ],
   "source": [
    "df_tmp['place'].unique()"
   ]
  },
  {
   "cell_type": "code",
   "execution_count": 53,
   "id": "e9f8e9a9-7b46-46e0-9988-0160e479fe2d",
   "metadata": {},
   "outputs": [
    {
     "data": {
      "text/plain": [
       "1988    70\n",
       "1989    59\n",
       "1987    54\n",
       "1986    51\n",
       "1990    38\n",
       "1992    37\n",
       "1991    29\n",
       "1993    13\n",
       "Name: date, dtype: int64"
      ]
     },
     "execution_count": 53,
     "metadata": {},
     "output_type": "execute_result"
    }
   ],
   "source": [
    "pd.to_datetime(df_tmp['date']).dt.year.value_counts()"
   ]
  },
  {
   "cell_type": "code",
   "execution_count": null,
   "id": "4e2f3d1c-e089-4098-ab95-9684837dccb8",
   "metadata": {},
   "outputs": [],
   "source": []
  }
 ],
 "metadata": {
  "kernelspec": {
   "display_name": "Python 3 (ipykernel)",
   "language": "python",
   "name": "python3"
  },
  "language_info": {
   "codemirror_mode": {
    "name": "ipython",
    "version": 3
   },
   "file_extension": ".py",
   "mimetype": "text/x-python",
   "name": "python",
   "nbconvert_exporter": "python",
   "pygments_lexer": "ipython3",
   "version": "3.9.7"
  }
 },
 "nbformat": 4,
 "nbformat_minor": 5
}
