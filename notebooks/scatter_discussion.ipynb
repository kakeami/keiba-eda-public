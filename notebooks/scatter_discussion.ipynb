{
 "cells": [
  {
   "cell_type": "markdown",
   "id": "ad606451-7d8e-4599-ba3b-7ebb7300c1a9",
   "metadata": {},
   "source": [
    "# 考察\n",
    "\n",
    "極端に上がりの速さが遅いクラスターの分析を行う．"
   ]
  },
  {
   "cell_type": "markdown",
   "id": "6b346e00-8f30-49d4-862d-da3f6fff73df",
   "metadata": {},
   "source": [
    "## 環境構築"
   ]
  },
  {
   "cell_type": "code",
   "execution_count": 1,
   "id": "c57dc2b3-bd41-4bde-a0eb-e2938545006a",
   "metadata": {},
   "outputs": [],
   "source": [
    "# Notebook初期設定\n",
    "%matplotlib inline\n",
    "%config InlineBackend.figure_format = 'retina'\n",
    "\n",
    "import warnings\n",
    "warnings.filterwarnings('ignore')"
   ]
  },
  {
   "cell_type": "code",
   "execution_count": 2,
   "id": "1b5c97a8-8183-4dee-8954-ba24aae5b4f1",
   "metadata": {},
   "outputs": [],
   "source": [
    "import os\n",
    "import pandas as pd\n",
    "import sqlite3\n",
    "from tqdm import tqdm_notebook as tqdm"
   ]
  },
  {
   "cell_type": "code",
   "execution_count": 3,
   "id": "4b80e970-f3ce-402a-a7eb-55b7cdcccfb4",
   "metadata": {},
   "outputs": [
    {
     "name": "stdout",
     "output_type": "stream",
     "text": [
      "Requirement already satisfied: plotly in /opt/conda/lib/python3.9/site-packages (5.3.1)\n",
      "Requirement already satisfied: tenacity>=6.2.0 in /opt/conda/lib/python3.9/site-packages (from plotly) (8.0.1)\n",
      "Requirement already satisfied: six in /opt/conda/lib/python3.9/site-packages (from plotly) (1.16.0)\n"
     ]
    }
   ],
   "source": [
    "# plotly関連\n",
    "!pip install plotly\n",
    "import plotly.express as px\n",
    "from plotly.subplots import make_subplots\n",
    "import plotly.graph_objects as go"
   ]
  },
  {
   "cell_type": "code",
   "execution_count": 4,
   "id": "50fb1e47-35d3-49bd-aa30-c5c41806e6f8",
   "metadata": {},
   "outputs": [],
   "source": [
    "DIR_IN = '../data/scatter_preprocess'\n",
    "DIR_OUT = '../data/scatter_discussion'"
   ]
  },
  {
   "cell_type": "code",
   "execution_count": 5,
   "id": "7c954b5a-b767-44a3-b28a-c775e0fbf291",
   "metadata": {},
   "outputs": [],
   "source": [
    "FN_ALL = 'all_res.csv'\n",
    "\n",
    "FN_DB = 'keiba.db'\n",
    "TN_RACE = 'race'\n",
    "TN_RES = 'result'"
   ]
  },
  {
   "cell_type": "code",
   "execution_count": 6,
   "id": "b181504c-d27c-4a13-af1b-89638519a25c",
   "metadata": {},
   "outputs": [],
   "source": [
    "def make_df_by_query(path_db, query):\n",
    "    \"\"\"path_dbにqueryを投げた結果のdfを取得\"\"\"\n",
    "    conn = sqlite3.connect(path_db, isolation_level=None)\n",
    "    cur = conn.cursor()\n",
    "    df = pd.read_sql(query, conn)\n",
    "    return df"
   ]
  },
  {
   "cell_type": "markdown",
   "id": "a6369012-8615-4826-a4a5-13b30dbb1ed8",
   "metadata": {},
   "source": [
    "## 分析"
   ]
  },
  {
   "cell_type": "code",
   "execution_count": 7,
   "id": "0568d56a-d97c-46c5-bbd5-85868359a820",
   "metadata": {},
   "outputs": [],
   "source": [
    "df_all = pd.read_csv(os.path.join(DIR_IN, FN_ALL))"
   ]
  },
  {
   "cell_type": "code",
   "execution_count": 8,
   "id": "ba8315e2-283d-464c-b316-5e8891526ef9",
   "metadata": {},
   "outputs": [],
   "source": [
    "# speed_3fのレースごとの最大値を抜き出す\n",
    "df_max_speed_3f = df_all.groupby('race_id')['speed_3f'].max().reset_index()\n",
    "# speed_3fの最大値が50km/h以下のrace_idを抽出\n",
    "raceids_slow_3f = \\\n",
    "    set(df_max_speed_3f[df_max_speed_3f['speed_3f'] < 50]['race_id'].unique())"
   ]
  },
  {
   "cell_type": "code",
   "execution_count": 9,
   "id": "58f78387-937b-4edb-aa78-ca0bcf69d7db",
   "metadata": {},
   "outputs": [],
   "source": [
    "# raceテーブルの全情報を取得\n",
    "path_db = os.path.join(DIR_IN, FN_DB)\n",
    "df_race = make_df_by_query(\n",
    "    path_db, 'SELECT * FROM race;')"
   ]
  },
  {
   "cell_type": "code",
   "execution_count": 10,
   "id": "9b069368-80b9-4cc9-a9d6-9a5c8213200a",
   "metadata": {},
   "outputs": [],
   "source": [
    "# raceids_slow_3fに属するraceのみ抽出\n",
    "df_race_slow_3f = \\\n",
    "    df_race[df_race['race_id'].astype(int).isin(raceids_slow_3f)].\\\n",
    "    reset_index(drop=True)"
   ]
  },
  {
   "cell_type": "code",
   "execution_count": 11,
   "id": "ad8bf7cc-1bd9-479f-b7bb-380e6d2995df",
   "metadata": {},
   "outputs": [
    {
     "data": {
      "text/plain": [
       "(351, 17)"
      ]
     },
     "execution_count": 11,
     "metadata": {},
     "output_type": "execute_result"
    }
   ],
   "source": [
    "df_race_slow_3f.shape"
   ]
  },
  {
   "cell_type": "code",
   "execution_count": 12,
   "id": "f19e3d97-d03d-4da9-a2a3-6c28316badf4",
   "metadata": {},
   "outputs": [
    {
     "data": {
      "text/plain": [
       "year  place\n",
       "1986  京都       16\n",
       "      新潟        1\n",
       "      東京       19\n",
       "      阪神       15\n",
       "1987  京都       16\n",
       "      東京       21\n",
       "      阪神       17\n",
       "1988  京都       17\n",
       "      新潟        6\n",
       "      東京       30\n",
       "      阪神       17\n",
       "1989  京都       17\n",
       "      新潟        4\n",
       "      東京       21\n",
       "      阪神       17\n",
       "1990  京都       18\n",
       "      新潟        2\n",
       "      東京        6\n",
       "      阪神       12\n",
       "1991  京都       22\n",
       "      新潟        3\n",
       "      阪神        4\n",
       "1992  京都       17\n",
       "      新潟        3\n",
       "      阪神       17\n",
       "1993  京都        6\n",
       "      阪神        7\n",
       "Name: race_id, dtype: int64"
      ]
     },
     "execution_count": 12,
     "metadata": {},
     "output_type": "execute_result"
    }
   ],
   "source": [
    "# 開催年と開催場所で集計してみる\n",
    "df_race_slow_3f['year'] = \\\n",
    "    pd.to_datetime(df_race_slow_3f['date']).dt.year\n",
    "df_race_slow_3f.groupby(['year', 'place'])['race_id'].count()"
   ]
  },
  {
   "cell_type": "code",
   "execution_count": 13,
   "id": "4e2f3d1c-e089-4098-ab95-9684837dccb8",
   "metadata": {},
   "outputs": [],
   "source": [
    "# 出力\n",
    "path_out = os.path.join(DIR_OUT, 'race_slow_3f.csv')\n",
    "df_race_slow_3f[['race_id', 'race_name', 'date', 'title', 'place']].\\\n",
    "    to_csv(path_out, index=False)"
   ]
  },
  {
   "cell_type": "markdown",
   "id": "a0e1840e-e643-4d30-b1f5-bae6cf87b8b6",
   "metadata": {},
   "source": [
    "## ラップタイムによる検証"
   ]
  },
  {
   "cell_type": "markdown",
   "id": "127b77ab-dddd-4591-994a-23ff6e90d8e5",
   "metadata": {},
   "source": [
    "https://zenn.dev/link/comments/caaa54ef2c79cd"
   ]
  },
  {
   "cell_type": "markdown",
   "id": "7959c832-0c5c-4636-adc3-df868dc8508b",
   "metadata": {},
   "source": [
    "### そもそも問題のレースはどのようなレースか"
   ]
  },
  {
   "cell_type": "code",
   "execution_count": 14,
   "id": "d79624f6-efef-44f0-b552-a1dfa895c776",
   "metadata": {},
   "outputs": [],
   "source": [
    "path_in = os.path.join(DIR_OUT, 'race_slow_3f.csv')\n",
    "df_race_slow_3f = pd.read_csv(path_in)"
   ]
  },
  {
   "cell_type": "code",
   "execution_count": 16,
   "id": "d6bc33c9-72f0-4506-8471-91bd06cf07a0",
   "metadata": {},
   "outputs": [],
   "source": [
    "# raceテーブルの全情報を取得\n",
    "path_db = os.path.join(DIR_IN, FN_DB)\n",
    "df_race = make_df_by_query(\n",
    "    path_db, 'SELECT * FROM race;')"
   ]
  },
  {
   "cell_type": "code",
   "execution_count": 19,
   "id": "80fe2aab-1f2f-475e-906e-f83884ddecd6",
   "metadata": {},
   "outputs": [],
   "source": [
    "race_ids = df_race_slow_3f['race_id'].unique()\n",
    "df_race_slow_3f = \\\n",
    "    df_race[df_race['race_id'].astype(int).isin(race_ids)]"
   ]
  },
  {
   "cell_type": "code",
   "execution_count": 22,
   "id": "681fab1f-ba37-4ddf-9e2b-d6ea791fd927",
   "metadata": {},
   "outputs": [
    {
     "data": {
      "text/plain": [
       "1600    92\n",
       "2000    88\n",
       "1400    45\n",
       "2400    35\n",
       "2200    28\n",
       "1800    21\n",
       "2500    17\n",
       "3000    14\n",
       "3200    11\n",
       "Name: distance, dtype: int64"
      ]
     },
     "execution_count": 22,
     "metadata": {},
     "output_type": "execute_result"
    }
   ],
   "source": [
    "df_race_slow_3f['distance'].value_counts()"
   ]
  },
  {
   "cell_type": "markdown",
   "id": "09ffa63b-3e74-4047-94d3-fc763c5bb9e0",
   "metadata": {},
   "source": [
    "距離が200[m]の倍数でない場合って，ラップタイムはどうなるんだろう"
   ]
  },
  {
   "cell_type": "code",
   "execution_count": 25,
   "id": "0ab4307b-c3ae-4371-ac1d-98fe871a5274",
   "metadata": {},
   "outputs": [
    {
     "data": {
      "text/html": [
       "<div>\n",
       "<style scoped>\n",
       "    .dataframe tbody tr th:only-of-type {\n",
       "        vertical-align: middle;\n",
       "    }\n",
       "\n",
       "    .dataframe tbody tr th {\n",
       "        vertical-align: top;\n",
       "    }\n",
       "\n",
       "    .dataframe thead th {\n",
       "        text-align: right;\n",
       "    }\n",
       "</style>\n",
       "<table border=\"1\" class=\"dataframe\">\n",
       "  <thead>\n",
       "    <tr style=\"text-align: right;\">\n",
       "      <th></th>\n",
       "      <th>level_0</th>\n",
       "      <th>index</th>\n",
       "      <th>race_id</th>\n",
       "      <th>date</th>\n",
       "      <th>place</th>\n",
       "      <th>race_name</th>\n",
       "      <th>distance</th>\n",
       "      <th>dart</th>\n",
       "      <th>dart_cond</th>\n",
       "      <th>turf</th>\n",
       "      <th>turf_cond</th>\n",
       "      <th>steeple</th>\n",
       "      <th>direction</th>\n",
       "      <th>weather</th>\n",
       "      <th>start_time</th>\n",
       "      <th>title</th>\n",
       "      <th>grade</th>\n",
       "    </tr>\n",
       "  </thead>\n",
       "  <tbody>\n",
       "    <tr>\n",
       "      <th>943</th>\n",
       "      <td>943</td>\n",
       "      <td>943</td>\n",
       "      <td>198605010811</td>\n",
       "      <td>1986-02-16</td>\n",
       "      <td>東京</td>\n",
       "      <td>第100回目黒記念(G2)</td>\n",
       "      <td>2500</td>\n",
       "      <td>False</td>\n",
       "      <td>None</td>\n",
       "      <td>True</td>\n",
       "      <td>良</td>\n",
       "      <td>False</td>\n",
       "      <td>Right</td>\n",
       "      <td>晴</td>\n",
       "      <td>15:45</td>\n",
       "      <td>目黒記念</td>\n",
       "      <td>G2</td>\n",
       "    </tr>\n",
       "    <tr>\n",
       "      <th>1295</th>\n",
       "      <td>1295</td>\n",
       "      <td>1295</td>\n",
       "      <td>198605050611</td>\n",
       "      <td>1986-11-16</td>\n",
       "      <td>東京</td>\n",
       "      <td>第24回アルゼンチン共和国杯(G2)</td>\n",
       "      <td>2500</td>\n",
       "      <td>False</td>\n",
       "      <td>None</td>\n",
       "      <td>True</td>\n",
       "      <td>良</td>\n",
       "      <td>False</td>\n",
       "      <td>Right</td>\n",
       "      <td>晴</td>\n",
       "      <td>15:25</td>\n",
       "      <td>アルゼンチン共和国杯</td>\n",
       "      <td>G2</td>\n",
       "    </tr>\n",
       "    <tr>\n",
       "      <th>2613</th>\n",
       "      <td>2613</td>\n",
       "      <td>2613</td>\n",
       "      <td>198609010611</td>\n",
       "      <td>1986-03-09</td>\n",
       "      <td>阪神</td>\n",
       "      <td>第39回鳴尾記念(G2)</td>\n",
       "      <td>2500</td>\n",
       "      <td>False</td>\n",
       "      <td>None</td>\n",
       "      <td>True</td>\n",
       "      <td>良</td>\n",
       "      <td>False</td>\n",
       "      <td>Right</td>\n",
       "      <td>晴</td>\n",
       "      <td>15:40</td>\n",
       "      <td>鳴尾記念</td>\n",
       "      <td>G2</td>\n",
       "    </tr>\n",
       "    <tr>\n",
       "      <th>4243</th>\n",
       "      <td>4243</td>\n",
       "      <td>4243</td>\n",
       "      <td>198705010811</td>\n",
       "      <td>1987-02-22</td>\n",
       "      <td>東京</td>\n",
       "      <td>第101回目黒記念(G2)</td>\n",
       "      <td>2500</td>\n",
       "      <td>False</td>\n",
       "      <td>None</td>\n",
       "      <td>True</td>\n",
       "      <td>良</td>\n",
       "      <td>False</td>\n",
       "      <td>Right</td>\n",
       "      <td>曇</td>\n",
       "      <td>15:45</td>\n",
       "      <td>目黒記念</td>\n",
       "      <td>G2</td>\n",
       "    </tr>\n",
       "    <tr>\n",
       "      <th>4587</th>\n",
       "      <td>4587</td>\n",
       "      <td>4587</td>\n",
       "      <td>198705050610</td>\n",
       "      <td>1987-11-22</td>\n",
       "      <td>東京</td>\n",
       "      <td>第25回アルゼンチン共和国杯(G2)</td>\n",
       "      <td>2500</td>\n",
       "      <td>False</td>\n",
       "      <td>None</td>\n",
       "      <td>True</td>\n",
       "      <td>良</td>\n",
       "      <td>False</td>\n",
       "      <td>Right</td>\n",
       "      <td>晴</td>\n",
       "      <td>15:25</td>\n",
       "      <td>アルゼンチン共和国杯</td>\n",
       "      <td>G2</td>\n",
       "    </tr>\n",
       "  </tbody>\n",
       "</table>\n",
       "</div>"
      ],
      "text/plain": [
       "      level_0  index       race_id        date place           race_name  \\\n",
       "943       943    943  198605010811  1986-02-16    東京       第100回目黒記念(G2)   \n",
       "1295     1295   1295  198605050611  1986-11-16    東京  第24回アルゼンチン共和国杯(G2)   \n",
       "2613     2613   2613  198609010611  1986-03-09    阪神        第39回鳴尾記念(G2)   \n",
       "4243     4243   4243  198705010811  1987-02-22    東京       第101回目黒記念(G2)   \n",
       "4587     4587   4587  198705050610  1987-11-22    東京  第25回アルゼンチン共和国杯(G2)   \n",
       "\n",
       "      distance   dart dart_cond  turf turf_cond steeple direction weather  \\\n",
       "943       2500  False      None  True         良   False     Right       晴   \n",
       "1295      2500  False      None  True         良   False     Right       晴   \n",
       "2613      2500  False      None  True         良   False     Right       晴   \n",
       "4243      2500  False      None  True         良   False     Right       曇   \n",
       "4587      2500  False      None  True         良   False     Right       晴   \n",
       "\n",
       "     start_time       title grade  \n",
       "943       15:45        目黒記念    G2  \n",
       "1295      15:25  アルゼンチン共和国杯    G2  \n",
       "2613      15:40        鳴尾記念    G2  \n",
       "4243      15:45        目黒記念    G2  \n",
       "4587      15:25  アルゼンチン共和国杯    G2  "
      ]
     },
     "execution_count": 25,
     "metadata": {},
     "output_type": "execute_result"
    }
   ],
   "source": [
    "df_race_slow_3f[df_race_slow_3f['distance']==2500].head()"
   ]
  },
  {
   "cell_type": "markdown",
   "id": "75c8d654-b7e2-4160-a4ff-907b1ab76243",
   "metadata": {},
   "source": [
    "`198605010811`についてラップタイムを確認してみると，\n",
    "> 7.4 - 11.3 - 11.4 - 11.7 - 11.8 - 12.7 - 12.2 - 12.1 - 12.1 - 12.6 - 12.7 - 12.0 - 12.1\n",
    "\n",
    "となっている．つまり最初は100[m]で記録し，残りは200[m]毎に区切って計測している模様．何も考えずに最後の4つを合計すれば良さそう"
   ]
  },
  {
   "cell_type": "markdown",
   "id": "fd17ea1a-4f66-47f9-9445-ca4be89dadf7",
   "metadata": {},
   "source": [
    "### ラップタイムのスクレイピング"
   ]
  },
  {
   "cell_type": "code",
   "execution_count": 88,
   "id": "5a408673-c132-4380-8158-da1d17fc2ff5",
   "metadata": {},
   "outputs": [],
   "source": [
    "from bs4 import BeautifulSoup\n",
    "import json\n",
    "import matplotlib.pyplot as plt\n",
    "import requests\n",
    "import time"
   ]
  },
  {
   "cell_type": "code",
   "execution_count": 28,
   "id": "39621e73-1e67-4faa-8ccb-e896e233ecca",
   "metadata": {},
   "outputs": [],
   "source": [
    "URL_BASE = 'https://db.netkeiba.com/race/'"
   ]
  },
  {
   "cell_type": "code",
   "execution_count": 65,
   "id": "38c7c8aa-7bcd-4081-b741-f72083d39a27",
   "metadata": {},
   "outputs": [],
   "source": [
    "def parse_html(race_id):\n",
    "    \"\"\"レースIDからHTMLを取得\"\"\"\n",
    "    time.sleep(1)\n",
    "    url = URL_BASE + str(race_id)\n",
    "    html = requests.get(url)\n",
    "    html.encoding = \"EUC-JP\"\n",
    "    soup = BeautifulSoup(html.text, \"html.parser\")\n",
    "    return soup"
   ]
  },
  {
   "cell_type": "code",
   "execution_count": 58,
   "id": "50fbc85d-fa5c-4021-94b4-eb9fe06342df",
   "metadata": {},
   "outputs": [],
   "source": [
    "def get_lap_times(soup):\n",
    "    \"\"\"htmlのparse結果からlaptime一覧を取得\"\"\"\n",
    "    lap_times = soup.find(class_='race_lap_cell').get_text()\n",
    "    # 区切り文字を除外して，float型にキャスト\n",
    "    lap_times = [float(t) for t in lap_times.split(' - ')]\n",
    "    return lap_times"
   ]
  },
  {
   "cell_type": "code",
   "execution_count": 59,
   "id": "79fa6915-cd57-4de1-b91e-c16aeb93d15e",
   "metadata": {},
   "outputs": [],
   "source": [
    "def calc_lap_last_4f(race_id):\n",
    "    soup = parse_html(race_id)\n",
    "    lap_times = get_lap_times(soup)\n",
    "    lap_last_4f = sum(lap_times[-4:])\n",
    "    return lap_last_4f"
   ]
  },
  {
   "cell_type": "code",
   "execution_count": 67,
   "id": "82045c46-39d1-4e94-a4f0-e2d695659d7a",
   "metadata": {},
   "outputs": [],
   "source": [
    "def save_json(path, dct):\n",
    "    \"\"\"\n",
    "    辞書をjson形式で保存する関数．\n",
    "\n",
    "    Params:\n",
    "        path (str): jsonファイルの保存先\n",
    "        dct (dict): 保存対象辞書\n",
    "    \"\"\"\n",
    "    with open(path, 'w') as f:\n",
    "        json.dump(dct, f, ensure_ascii=False, indent=4)"
   ]
  },
  {
   "cell_type": "code",
   "execution_count": 64,
   "id": "ff495abc-8873-49fc-b573-34d35881cd2b",
   "metadata": {},
   "outputs": [],
   "source": [
    "# race_idと上り4Fのラップタイムの対応関係\n",
    "raceid2lap4f = {}\n",
    "for race_id in race_ids:\n",
    "    lap4f = calc_lap_last_4f(race_id)\n",
    "    raceid2lap4f[str(race_id)] = lap4f"
   ]
  },
  {
   "cell_type": "code",
   "execution_count": 74,
   "id": "c9dcf71b-c3a6-4cfc-941b-1ea70e1a5800",
   "metadata": {},
   "outputs": [],
   "source": [
    "# 保存\n",
    "save_json(os.path.join(DIR_OUT, 'raceid2lap4f.json'), raceid2lap4f)"
   ]
  },
  {
   "cell_type": "code",
   "execution_count": 80,
   "id": "46d8a38f-4dd4-48d9-aec1-80810873a99a",
   "metadata": {},
   "outputs": [],
   "source": [
    "# 最速上りタイムとの比較\n",
    "df_all = pd.read_csv(os.path.join(DIR_IN, FN_ALL))\n",
    "df_last = df_all.groupby('race_id')['seconds_3f'].min().reset_index()\n",
    "df_last = df_last[df_last['race_id'].astype(int).isin(race_ids)].reset_index(drop=True)"
   ]
  },
  {
   "cell_type": "code",
   "execution_count": 83,
   "id": "6ee973fb-a30b-467c-8df9-2a2c1bd9ae20",
   "metadata": {},
   "outputs": [],
   "source": [
    "df_last['seconds_4f'] = df_last['race_id'].apply(\n",
    "    lambda x: raceid2lap4f[str(x)])"
   ]
  },
  {
   "cell_type": "code",
   "execution_count": 86,
   "id": "cdf6b13f-9810-4a0b-93dd-be2b0c9f27fe",
   "metadata": {},
   "outputs": [],
   "source": [
    "df_last['error_rate'] = \\\n",
    "    (df_last['seconds_4f'] - df_last['seconds_3f'])/\\\n",
    "    df_last['seconds_3f']"
   ]
  },
  {
   "cell_type": "code",
   "execution_count": 89,
   "id": "502a2e7b-113d-4ba1-9aaf-ccc3738e242b",
   "metadata": {},
   "outputs": [
    {
     "data": {
      "text/plain": [
       "(array([38., 84., 76., 68., 45., 23.,  6.,  8.,  1.,  2.]),\n",
       " array([0.        , 0.00535332, 0.01070664, 0.01605996, 0.02141328,\n",
       "        0.0267666 , 0.03211991, 0.03747323, 0.04282655, 0.04817987,\n",
       "        0.05353319]),\n",
       " <BarContainer object of 10 artists>)"
      ]
     },
     "execution_count": 89,
     "metadata": {},
     "output_type": "execute_result"
    },
    {
     "data": {
      "image/png": "[encoded data removed]",
      "text/plain": [
       "<Figure size 432x288 with 1 Axes>"
      ]
     },
     "metadata": {
      "image/png": {
       "height": 248,
       "width": 368
      },
      "needs_background": "light"
     },
     "output_type": "display_data"
    }
   ],
   "source": [
    "plt.hist(df_last['error_rate'])"
   ]
  }
 ],
 "metadata": {
  "kernelspec": {
   "display_name": "Python 3 (ipykernel)",
   "language": "python",
   "name": "python3"
  },
  "language_info": {
   "codemirror_mode": {
    "name": "ipython",
    "version": 3
   },
   "file_extension": ".py",
   "mimetype": "text/x-python",
   "name": "python",
   "nbconvert_exporter": "python",
   "pygments_lexer": "ipython3",
   "version": "3.9.7"
  }
 },
 "nbformat": 4,
 "nbformat_minor": 5
}
