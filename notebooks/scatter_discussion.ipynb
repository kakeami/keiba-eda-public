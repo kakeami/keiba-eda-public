{
 "cells": [
  {
   "cell_type": "markdown",
   "id": "ad606451-7d8e-4599-ba3b-7ebb7300c1a9",
   "metadata": {},
   "source": [
    "# 考察\n",
    "\n",
    "極端に上がりの速さが遅いクラスターの分析を行う．"
   ]
  },
  {
   "cell_type": "markdown",
   "id": "6b346e00-8f30-49d4-862d-da3f6fff73df",
   "metadata": {},
   "source": [
    "## 環境構築"
   ]
  },
  {
   "cell_type": "code",
   "execution_count": 1,
   "id": "c57dc2b3-bd41-4bde-a0eb-e2938545006a",
   "metadata": {},
   "outputs": [],
   "source": [
    "# Notebook初期設定\n",
    "%matplotlib inline\n",
    "%config InlineBackend.figure_format = 'retina'\n",
    "\n",
    "import warnings\n",
    "warnings.filterwarnings('ignore')"
   ]
  },
  {
   "cell_type": "code",
   "execution_count": 60,
   "id": "1b5c97a8-8183-4dee-8954-ba24aae5b4f1",
   "metadata": {},
   "outputs": [],
   "source": [
    "import os\n",
    "import pandas as pd\n",
    "import sqlite3\n",
    "from tqdm import tqdm_notebook as tqdm"
   ]
  },
  {
   "cell_type": "code",
   "execution_count": 3,
   "id": "4b80e970-f3ce-402a-a7eb-55b7cdcccfb4",
   "metadata": {},
   "outputs": [
    {
     "name": "stdout",
     "output_type": "stream",
     "text": [
      "Requirement already satisfied: plotly in /opt/conda/lib/python3.9/site-packages (5.3.1)\n",
      "Requirement already satisfied: six in /opt/conda/lib/python3.9/site-packages (from plotly) (1.16.0)\n",
      "Requirement already satisfied: tenacity>=6.2.0 in /opt/conda/lib/python3.9/site-packages (from plotly) (8.0.1)\n"
     ]
    }
   ],
   "source": [
    "# plotly関連\n",
    "!pip install plotly\n",
    "import plotly.express as px\n",
    "from plotly.subplots import make_subplots\n",
    "import plotly.graph_objects as go"
   ]
  },
  {
   "cell_type": "code",
   "execution_count": 4,
   "id": "50fb1e47-35d3-49bd-aa30-c5c41806e6f8",
   "metadata": {},
   "outputs": [],
   "source": [
    "DIR_IN = '../data/scatter_preprocess'\n",
    "DIR_OUT = '../data/scatter_discussion'"
   ]
  },
  {
   "cell_type": "code",
   "execution_count": 54,
   "id": "7c954b5a-b767-44a3-b28a-c775e0fbf291",
   "metadata": {},
   "outputs": [],
   "source": [
    "FN_ALL = 'all_res.csv'\n",
    "\n",
    "FN_DB = 'keiba.db'\n",
    "TN_RACE = 'race'\n",
    "TN_RES = 'result'"
   ]
  },
  {
   "cell_type": "code",
   "execution_count": 61,
   "id": "b181504c-d27c-4a13-af1b-89638519a25c",
   "metadata": {},
   "outputs": [],
   "source": [
    "def make_df_by_query(path_db, query):\n",
    "    \"\"\"path_dbにqueryを投げた結果のdfを取得\"\"\"\n",
    "    conn = sqlite3.connect(path_db, isolation_level=None)\n",
    "    cur = conn.cursor()\n",
    "    df = pd.read_sql(query, conn)\n",
    "    return df"
   ]
  },
  {
   "cell_type": "markdown",
   "id": "a6369012-8615-4826-a4a5-13b30dbb1ed8",
   "metadata": {},
   "source": [
    "## 分析"
   ]
  },
  {
   "cell_type": "code",
   "execution_count": 62,
   "id": "0568d56a-d97c-46c5-bbd5-85868359a820",
   "metadata": {},
   "outputs": [],
   "source": [
    "df_all = pd.read_csv(os.path.join(DIR_IN, FN_ALL))"
   ]
  },
  {
   "cell_type": "code",
   "execution_count": 63,
   "id": "ba8315e2-283d-464c-b316-5e8891526ef9",
   "metadata": {},
   "outputs": [],
   "source": [
    "# speed_3fのレースごとの最大値を抜き出す\n",
    "df_max_speed_3f = df_all.groupby('race_id')['speed_3f'].max().reset_index()\n",
    "# speed_3fの最大値が50km/h以下のrace_idを抽出\n",
    "raceids_slow_3f = \\\n",
    "    set(df_max_speed_3f[df_max_speed_3f['speed_3f'] < 50]['race_id'].unique())"
   ]
  },
  {
   "cell_type": "code",
   "execution_count": 64,
   "id": "58f78387-937b-4edb-aa78-ca0bcf69d7db",
   "metadata": {},
   "outputs": [],
   "source": [
    "# raceテーブルの全情報を取得\n",
    "path_db = os.path.join(DIR_IN, FN_DB)\n",
    "df_race = make_df_by_query(\n",
    "    path_db, 'SELECT * FROM race;')"
   ]
  },
  {
   "cell_type": "code",
   "execution_count": 69,
   "id": "9b069368-80b9-4cc9-a9d6-9a5c8213200a",
   "metadata": {},
   "outputs": [],
   "source": [
    "# raceids_slow_3fに属するraceのみ抽出\n",
    "df_race_slow_3f = \\\n",
    "    df_race[df_race['race_id'].astype(int).isin(raceids_slow_3f)].\\\n",
    "    reset_index(drop=True)"
   ]
  },
  {
   "cell_type": "code",
   "execution_count": 73,
   "id": "ad8bf7cc-1bd9-479f-b7bb-380e6d2995df",
   "metadata": {},
   "outputs": [
    {
     "data": {
      "text/plain": [
       "(351, 17)"
      ]
     },
     "execution_count": 73,
     "metadata": {},
     "output_type": "execute_result"
    }
   ],
   "source": [
    "df_race_slow_3f.shape"
   ]
  },
  {
   "cell_type": "code",
   "execution_count": 78,
   "id": "f19e3d97-d03d-4da9-a2a3-6c28316badf4",
   "metadata": {},
   "outputs": [
    {
     "data": {
      "text/plain": [
       "year  place\n",
       "1986  京都       16\n",
       "      新潟        1\n",
       "      東京       19\n",
       "      阪神       15\n",
       "1987  京都       16\n",
       "      東京       21\n",
       "      阪神       17\n",
       "1988  京都       17\n",
       "      新潟        6\n",
       "      東京       30\n",
       "      阪神       17\n",
       "1989  京都       17\n",
       "      新潟        4\n",
       "      東京       21\n",
       "      阪神       17\n",
       "1990  京都       18\n",
       "      新潟        2\n",
       "      東京        6\n",
       "      阪神       12\n",
       "1991  京都       22\n",
       "      新潟        3\n",
       "      阪神        4\n",
       "1992  京都       17\n",
       "      新潟        3\n",
       "      阪神       17\n",
       "1993  京都        6\n",
       "      阪神        7\n",
       "Name: race_id, dtype: int64"
      ]
     },
     "execution_count": 78,
     "metadata": {},
     "output_type": "execute_result"
    }
   ],
   "source": [
    "# 開催年と開催場所で集計してみる\n",
    "df_race_slow_3f['year'] = \\\n",
    "    pd.to_datetime(df_race_slow_3f['date']).dt.year\n",
    "df_race_slow_3f.groupby(['year', 'place'])['race_id'].count()"
   ]
  },
  {
   "cell_type": "code",
   "execution_count": 79,
   "id": "4e2f3d1c-e089-4098-ab95-9684837dccb8",
   "metadata": {},
   "outputs": [],
   "source": [
    "# 出力\n",
    "path_out = os.path.join(DIR_OUT, 'race_slow_3f.csv')\n",
    "df_race_slow_3f[['race_id', 'race_name', 'date', 'title', 'place']].\\\n",
    "    to_csv(path_out, index=False)"
   ]
  },
  {
   "cell_type": "code",
   "execution_count": null,
   "id": "8ff02787-b20a-418b-bbed-2823463f466e",
   "metadata": {},
   "outputs": [],
   "source": []
  }
 ],
 "metadata": {
  "kernelspec": {
   "display_name": "Python 3 (ipykernel)",
   "language": "python",
   "name": "python3"
  },
  "language_info": {
   "codemirror_mode": {
    "name": "ipython",
    "version": 3
   },
   "file_extension": ".py",
   "mimetype": "text/x-python",
   "name": "python",
   "nbconvert_exporter": "python",
   "pygments_lexer": "ipython3",
   "version": "3.9.7"
  }
 },
 "nbformat": 4,
 "nbformat_minor": 5
}
