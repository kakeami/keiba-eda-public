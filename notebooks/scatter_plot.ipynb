{
 "cells": [
  {
   "cell_type": "markdown",
   "metadata": {},
   "source": [
    "# 可視化\n",
    "\n",
    "`./scatter_preprocess.ipynb`で作成した：\n",
    "\n",
    "- `all_res.csv`\n",
    "- `umamusume.csv`\n",
    "\n",
    "を利用して，Plotlyで散布図を描く．"
   ]
  },
  {
   "cell_type": "markdown",
   "metadata": {},
   "source": [
    "## 環境構築"
   ]
  },
  {
   "cell_type": "code",
   "execution_count": 1,
   "metadata": {},
   "outputs": [],
   "source": [
    "# Notebook初期設定\n",
    "%matplotlib inline\n",
    "%config InlineBackend.figure_format = 'retina'\n",
    "\n",
    "import warnings\n",
    "warnings.filterwarnings('ignore')"
   ]
  },
  {
   "cell_type": "code",
   "execution_count": 2,
   "metadata": {},
   "outputs": [],
   "source": [
    "import os\n",
    "import pandas as pd\n",
    "from tqdm import tqdm_notebook as tqdm"
   ]
  },
  {
   "cell_type": "code",
   "execution_count": 3,
   "metadata": {},
   "outputs": [
    {
     "name": "stdout",
     "output_type": "stream",
     "text": [
      "Collecting plotly\n",
      "  Downloading plotly-5.3.1-py2.py3-none-any.whl (23.9 MB)\n",
      "     |████████████████████████████████| 23.9 MB 8.6 MB/s            \n",
      "\u001b[?25hCollecting tenacity>=6.2.0\n",
      "  Downloading tenacity-8.0.1-py3-none-any.whl (24 kB)\n",
      "Requirement already satisfied: six in /opt/conda/lib/python3.9/site-packages (from plotly) (1.16.0)\n",
      "Installing collected packages: tenacity, plotly\n",
      "Successfully installed plotly-5.3.1 tenacity-8.0.1\n"
     ]
    }
   ],
   "source": [
    "# plotly関連\n",
    "!pip install plotly\n",
    "import plotly.express as px\n",
    "from plotly.subplots import make_subplots\n",
    "import plotly.graph_objects as go"
   ]
  },
  {
   "cell_type": "code",
   "execution_count": 4,
   "metadata": {},
   "outputs": [],
   "source": [
    "DIR_IN = '../data/scatter_preprocess'\n",
    "DIR_OUT = '../data/scatter_plot'"
   ]
  },
  {
   "cell_type": "code",
   "execution_count": 5,
   "metadata": {},
   "outputs": [],
   "source": [
    "FN_ALL = 'all_res.csv'\n",
    "FN_UM = 'umamusume.csv'"
   ]
  },
  {
   "cell_type": "code",
   "execution_count": 6,
   "metadata": {},
   "outputs": [],
   "source": [
    "DISTANCE_CLASSES = [\n",
    "    'short',\n",
    "    'mile',\n",
    "    'intermediate',\n",
    "    'long'\n",
    "]"
   ]
  },
  {
   "cell_type": "code",
   "execution_count": 39,
   "metadata": {},
   "outputs": [],
   "source": [
    "INDICES= {\n",
    "    'turf_index': '芝適性',\n",
    "    'dart_index': 'ダート適性',\n",
    "    'short_index': '短距離適性',\n",
    "    'mile_index': 'マイル適性',\n",
    "    'intermediate_index': '中距離適性',\n",
    "    'long_index': '長距離適性',\n",
    "    'nige_index': '逃げ適性',\n",
    "    'senko_index': '先行適性',\n",
    "    'sashi_index': '差し適性',\n",
    "    'oikomi_index': '追い込み適性',\n",
    "}"
   ]
  },
  {
   "cell_type": "code",
   "execution_count": 8,
   "metadata": {},
   "outputs": [],
   "source": [
    "SUBPLOT_TITLES = [\n",
    "    '短距離（1,600m未満）',\n",
    "    'マイル（1,600m～2,000m未満）',\n",
    "    '中距離（2,000m～2,500m未満）',\n",
    "    '長距離（2,500m以上）'\n",
    "]"
   ]
  },
  {
   "cell_type": "code",
   "execution_count": 55,
   "metadata": {},
   "outputs": [],
   "source": [
    "X_TITLE = 'レース全体の平均の速さ[km/h]'\n",
    "Y_TITLE = '上り3ハロンの平均の速さ[km/h]'"
   ]
  },
  {
   "cell_type": "markdown",
   "metadata": {},
   "source": [
    "## 可視化"
   ]
  },
  {
   "cell_type": "code",
   "execution_count": 63,
   "metadata": {},
   "outputs": [],
   "source": [
    "def make_hover_text(\n",
    "        horse_name, horse_age, \n",
    "        race_name, turf, dart, date, distance,\n",
    "        seconds_total, seconds_3f,\n",
    "        speed_total, speed_3f,\n",
    "        arrival_order, prize):\n",
    "    \n",
    "    if turf:\n",
    "        race_type = '芝'\n",
    "    elif dart:\n",
    "        race_type = 'ダート'\n",
    "    else:\n",
    "        race_type = ''\n",
    "        \n",
    "    text = f'''<b>{horse_name}</b> ({horse_age}歳) <br><br>\n",
    "    レース：{race_name} ({date}, {race_type}, {distance}m)<br>\n",
    "    タイム： {seconds_total} 秒 (上り: {seconds_3f} 秒) <br>\n",
    "    平均の速さ: {speed_total:.4} km/h （上り: {speed_3f:.4} km/h） <br>\n",
    "    着順：{arrival_order}<br>\n",
    "    賞金：{prize}万円\n",
    "    '''\n",
    "    return text"
   ]
  },
  {
   "cell_type": "code",
   "execution_count": 64,
   "metadata": {},
   "outputs": [],
   "source": [
    "# ホバー用のカラムを追加\n",
    "def add_hover_text_to_df(df):\n",
    "    df_new = df.copy()\n",
    "    df_new['hover_text'] = \\\n",
    "        df_new[\n",
    "            ['horse_name', 'horse_age', \n",
    "             'race_name', 'turf', 'dart', 'date', 'distance', \n",
    "             'seconds_total', 'seconds_3f',\n",
    "             'speed_total', 'speed_3f',\n",
    "             'arrival_order', 'prize']].apply(\n",
    "        lambda x: make_hover_text(*x), axis=1)\n",
    "    return df_new"
   ]
  },
  {
   "cell_type": "code",
   "execution_count": 65,
   "metadata": {},
   "outputs": [],
   "source": [
    "def get_min_and_max_of_col(df, col):\n",
    "    \"\"\"dfのcolのminとmaxを取得\"\"\"\n",
    "    col_min = df[col].min() * 0.9\n",
    "    col_max = df[col].max() * 1.1\n",
    "    return (col_min, col_max)"
   ]
  },
  {
   "cell_type": "code",
   "execution_count": 66,
   "metadata": {},
   "outputs": [],
   "source": [
    "def make_df_for_plot(df, dc, color_col, asc):\n",
    "    \"\"\"scatter描画用のdfを生成\"\"\"\n",
    "    df_tmp = \\\n",
    "        df[df['distance_class']==dc].reset_index(drop=True)\n",
    "    df_tmp = df_tmp.sort_values(\n",
    "        color_col, ascending=asc, ignore_index=True)\n",
    "    return df_tmp"
   ]
  },
  {
   "cell_type": "code",
   "execution_count": 67,
   "metadata": {},
   "outputs": [],
   "source": [
    "def add_scatter_trace_to_fig(\n",
    "        fig, x, y, color, text, name, i,\n",
    "        opacity=1., symbol='circle', size=10, \n",
    "        hover=True, linecolor='White'):\n",
    "    \"\"\"figに対しscatterを追加\"\"\"\n",
    "    fig.add_trace(\n",
    "        go.Scatter(\n",
    "            x=x,\n",
    "            y=y,\n",
    "            mode='markers',\n",
    "            marker_symbol=symbol,\n",
    "            marker_size=size,\n",
    "            opacity=opacity,\n",
    "            hoverinfo='text' if hover else 'skip',\n",
    "            marker={\n",
    "                'color': color,\n",
    "                'coloraxis':'coloraxis',\n",
    "                'line':{\n",
    "                    'color': linecolor,\n",
    "                    'width': 1},\n",
    "            },\n",
    "            text=text,\n",
    "            hovertemplate='%{text}' if hover else None,\n",
    "            name=name,\n",
    "        ),\n",
    "    i//2+1, i%2+1)"
   ]
  },
  {
   "cell_type": "code",
   "execution_count": 68,
   "metadata": {},
   "outputs": [],
   "source": [
    "def update_colorbar_of_fig(fig, color_title):\n",
    "    \"\"\"figのカラーバーに関する設定\"\"\"\n",
    "    fig.update_layout(\n",
    "        showlegend=False,\n",
    "        coloraxis_colorbar={'title': color_title},\n",
    "        )"
   ]
  },
  {
   "cell_type": "code",
   "execution_count": 69,
   "metadata": {},
   "outputs": [],
   "source": [
    "def update_axis_ranges_of_fig(fig, x_min, x_max, y_min, y_max):\n",
    "    \"\"\"figの描画範囲を更新\"\"\"\n",
    "    fig.update_xaxes(range=[x_min, x_max])\n",
    "    fig.update_yaxes(range=[y_min, y_max])"
   ]
  },
  {
   "cell_type": "code",
   "execution_count": 70,
   "metadata": {},
   "outputs": [],
   "source": [
    "def update_axis_titles_of_fig(\n",
    "        fig, x_title=X_TITLE, y_title=Y_TITLE):\n",
    "    \"\"\"figの各軸名を修正\"\"\"\n",
    "    fig.update_xaxes(title_text=x_title)\n",
    "    fig.update_yaxes(title_text=y_title)"
   ]
  },
  {
   "cell_type": "code",
   "execution_count": 71,
   "metadata": {},
   "outputs": [],
   "source": [
    "def subplots_scatter_by_distance_class(\n",
    "        df, color_col='prize', color_title='獲得賞金', asc=True):\n",
    "    \"\"\"距離区分ごとにsubplotでscatterを描画\"\"\"\n",
    "    fig = make_subplots(\n",
    "        rows=2, cols=2, subplot_titles=SUBPLOT_TITLES)\n",
    "    x_min, x_max = get_min_and_max_of_col(df, 'speed_total')\n",
    "    y_min, y_max = get_min_and_max_of_col(df, 'speed_3f')\n",
    "    for i, dc in enumerate(DISTANCE_CLASSES):\n",
    "        df_tmp = make_df_for_plot(df, dc, color_col, asc)\n",
    "        add_scatter_trace_to_fig(\n",
    "            fig, x=df_tmp['speed_total'], y=df_tmp['speed_3f'],\n",
    "            color=df_tmp[color_col], text=df_tmp['hover_text'],\n",
    "            name=dc, i=i)\n",
    "    update_colorbar_of_fig(fig, color_title)\n",
    "    update_axis_ranges_of_fig(\n",
    "        fig, x_min=x_min, x_max=x_max, \n",
    "        y_min=y_min, y_max=y_max)\n",
    "    update_axis_titles_of_fig(fig)\n",
    "    return fig"
   ]
  },
  {
   "cell_type": "code",
   "execution_count": 72,
   "metadata": {},
   "outputs": [],
   "source": [
    "def subplots_two_scatters_by_distance_class(\n",
    "        df, df_star, color_col='prize', color_title='獲得賞金', asc=True):\n",
    "    \"\"\"距離区分ごとにsubplotでscatterを描画\n",
    "    ただしdf_starの結果は☆でプロット\"\"\"\n",
    "    fig = make_subplots(\n",
    "        rows=2, cols=2, subplot_titles=SUBPLOT_TITLES)\n",
    "    x_min, x_max = get_min_and_max_of_col(df, 'speed_total')\n",
    "    y_min, y_max = get_min_and_max_of_col(df, 'speed_3f')\n",
    "    for i, dc in enumerate(DISTANCE_CLASSES):\n",
    "        df_tmp = make_df_for_plot(df, dc, color_col, asc)\n",
    "        df_star_tmp = make_df_for_plot(df_star, dc, color_col, asc)\n",
    "        # 背景表示用\n",
    "        add_scatter_trace_to_fig(\n",
    "            fig, x=df_tmp['speed_total'], y=df_tmp['speed_3f'],\n",
    "            color=df_tmp[color_col], text=df_tmp['hover_text'],\n",
    "            name=dc, i=i, opacity=0.3, hover=False)\n",
    "        # 注目したいデータ用\n",
    "        add_scatter_trace_to_fig(\n",
    "            fig, x=df_star_tmp['speed_total'], y=df_star_tmp['speed_3f'],\n",
    "            color=df_star_tmp[color_col], text=df_star_tmp['hover_text'],\n",
    "            name=dc, i=i, symbol='star', size=25)\n",
    "    update_colorbar_of_fig(fig, color_title)\n",
    "    update_axis_ranges_of_fig(\n",
    "        fig, x_min=x_min, x_max=x_max, \n",
    "        y_min=y_min, y_max=y_max)\n",
    "    update_axis_titles_of_fig(fig)\n",
    "    return fig"
   ]
  },
  {
   "cell_type": "code",
   "execution_count": 73,
   "metadata": {},
   "outputs": [],
   "source": [
    "def subplots_three_scatters_by_distance_class(\n",
    "        df, df_star, df_tri, color_col='prize', \n",
    "        color_title='獲得賞金', asc=True):\n",
    "    \"\"\"距離区分ごとにsubplotでscatterを描画\n",
    "    ただしdf_starの結果は☆で，df_triの結果は△でプロット\"\"\"\n",
    "    fig = make_subplots(\n",
    "        rows=2, cols=2, subplot_titles=SUBPLOT_TITLES)\n",
    "    x_min, x_max = get_min_and_max_of_col(df, 'speed_total')\n",
    "    y_min, y_max = get_min_and_max_of_col(df, 'speed_3f')\n",
    "    for i, dc in enumerate(DISTANCE_CLASSES):\n",
    "        df_tmp = make_df_for_plot(df, dc, color_col, asc)\n",
    "        df_star_tmp = make_df_for_plot(df_star, dc, color_col, asc)\n",
    "        df_tri_tmp = make_df_for_plot(df_tri, dc, color_col, asc)\n",
    "        # 背景表示用\n",
    "        add_scatter_trace_to_fig(\n",
    "            fig, x=df_tmp['speed_total'], y=df_tmp['speed_3f'],\n",
    "            color=df_tmp[color_col], text=df_tmp['hover_text'],\n",
    "            name=dc, i=i, opacity=0.3, hover=False)\n",
    "        # 注目したいデータ（☆）\n",
    "        add_scatter_trace_to_fig(\n",
    "            fig, x=df_star_tmp['speed_total'], y=df_star_tmp['speed_3f'],\n",
    "            color=df_star_tmp[color_col], text=df_star_tmp['hover_text'],\n",
    "            name=dc, i=i, symbol='star', size=25, opacity=0.8)\n",
    "        # 注目したいデータ（□）\n",
    "        add_scatter_trace_to_fig(\n",
    "            fig, x=df_tri_tmp['speed_total'], y=df_tri_tmp['speed_3f'],\n",
    "            color=df_tri_tmp[color_col], text=df_tri_tmp['hover_text'],\n",
    "            name=dc, i=i, symbol='triangle-up', size=25, opacity=0.8)\n",
    "    update_colorbar_of_fig(fig, color_title)\n",
    "    update_axis_ranges_of_fig(\n",
    "        fig, x_min=x_min, x_max=x_max, \n",
    "        y_min=y_min, y_max=y_max)\n",
    "    update_axis_titles_of_fig(fig)\n",
    "    return fig"
   ]
  },
  {
   "cell_type": "markdown",
   "metadata": {},
   "source": [
    "### 全レース結果の散布図（`scatter_all.html`）"
   ]
  },
  {
   "cell_type": "code",
   "execution_count": 74,
   "metadata": {},
   "outputs": [],
   "source": [
    "df_all = pd.read_csv(os.path.join(DIR_IN, FN_ALL))\n",
    "# ホバー表示用のカラムを追加\n",
    "df_all = add_hover_text_to_df(df_all)"
   ]
  },
  {
   "cell_type": "code",
   "execution_count": 75,
   "metadata": {},
   "outputs": [
    {
     "data": {
      "text/html": [
       "<div>\n",
       "<style scoped>\n",
       "    .dataframe tbody tr th:only-of-type {\n",
       "        vertical-align: middle;\n",
       "    }\n",
       "\n",
       "    .dataframe tbody tr th {\n",
       "        vertical-align: top;\n",
       "    }\n",
       "\n",
       "    .dataframe thead th {\n",
       "        text-align: right;\n",
       "    }\n",
       "</style>\n",
       "<table border=\"1\" class=\"dataframe\">\n",
       "  <thead>\n",
       "    <tr style=\"text-align: right;\">\n",
       "      <th></th>\n",
       "      <th>0</th>\n",
       "      <th>1</th>\n",
       "      <th>2</th>\n",
       "      <th>3</th>\n",
       "      <th>4</th>\n",
       "    </tr>\n",
       "  </thead>\n",
       "  <tbody>\n",
       "    <tr>\n",
       "      <th>race_id</th>\n",
       "      <td>198605020811</td>\n",
       "      <td>198605020811</td>\n",
       "      <td>198605020811</td>\n",
       "      <td>198605020811</td>\n",
       "      <td>198605020811</td>\n",
       "    </tr>\n",
       "    <tr>\n",
       "      <th>date</th>\n",
       "      <td>1986-05-11</td>\n",
       "      <td>1986-05-11</td>\n",
       "      <td>1986-05-11</td>\n",
       "      <td>1986-05-11</td>\n",
       "      <td>1986-05-11</td>\n",
       "    </tr>\n",
       "    <tr>\n",
       "      <th>place</th>\n",
       "      <td>東京</td>\n",
       "      <td>東京</td>\n",
       "      <td>東京</td>\n",
       "      <td>東京</td>\n",
       "      <td>東京</td>\n",
       "    </tr>\n",
       "    <tr>\n",
       "      <th>race_name</th>\n",
       "      <td>第36回安田記念(G1)</td>\n",
       "      <td>第36回安田記念(G1)</td>\n",
       "      <td>第36回安田記念(G1)</td>\n",
       "      <td>第36回安田記念(G1)</td>\n",
       "      <td>第36回安田記念(G1)</td>\n",
       "    </tr>\n",
       "    <tr>\n",
       "      <th>distance</th>\n",
       "      <td>1600</td>\n",
       "      <td>1600</td>\n",
       "      <td>1600</td>\n",
       "      <td>1600</td>\n",
       "      <td>1600</td>\n",
       "    </tr>\n",
       "    <tr>\n",
       "      <th>dart</th>\n",
       "      <td>False</td>\n",
       "      <td>False</td>\n",
       "      <td>False</td>\n",
       "      <td>False</td>\n",
       "      <td>False</td>\n",
       "    </tr>\n",
       "    <tr>\n",
       "      <th>dart_cond</th>\n",
       "      <td>None</td>\n",
       "      <td>None</td>\n",
       "      <td>None</td>\n",
       "      <td>None</td>\n",
       "      <td>None</td>\n",
       "    </tr>\n",
       "    <tr>\n",
       "      <th>turf</th>\n",
       "      <td>True</td>\n",
       "      <td>True</td>\n",
       "      <td>True</td>\n",
       "      <td>True</td>\n",
       "      <td>True</td>\n",
       "    </tr>\n",
       "    <tr>\n",
       "      <th>turf_cond</th>\n",
       "      <td>良</td>\n",
       "      <td>良</td>\n",
       "      <td>良</td>\n",
       "      <td>良</td>\n",
       "      <td>良</td>\n",
       "    </tr>\n",
       "    <tr>\n",
       "      <th>steeple</th>\n",
       "      <td>False</td>\n",
       "      <td>False</td>\n",
       "      <td>False</td>\n",
       "      <td>False</td>\n",
       "      <td>False</td>\n",
       "    </tr>\n",
       "    <tr>\n",
       "      <th>direction</th>\n",
       "      <td>Right</td>\n",
       "      <td>Right</td>\n",
       "      <td>Right</td>\n",
       "      <td>Right</td>\n",
       "      <td>Right</td>\n",
       "    </tr>\n",
       "    <tr>\n",
       "      <th>weather</th>\n",
       "      <td>曇</td>\n",
       "      <td>曇</td>\n",
       "      <td>曇</td>\n",
       "      <td>曇</td>\n",
       "      <td>曇</td>\n",
       "    </tr>\n",
       "    <tr>\n",
       "      <th>start_time</th>\n",
       "      <td>15:45</td>\n",
       "      <td>15:45</td>\n",
       "      <td>15:45</td>\n",
       "      <td>15:45</td>\n",
       "      <td>15:45</td>\n",
       "    </tr>\n",
       "    <tr>\n",
       "      <th>title</th>\n",
       "      <td>安田記念</td>\n",
       "      <td>安田記念</td>\n",
       "      <td>安田記念</td>\n",
       "      <td>安田記念</td>\n",
       "      <td>安田記念</td>\n",
       "    </tr>\n",
       "    <tr>\n",
       "      <th>grade</th>\n",
       "      <td>G1</td>\n",
       "      <td>G1</td>\n",
       "      <td>G1</td>\n",
       "      <td>G1</td>\n",
       "      <td>G1</td>\n",
       "    </tr>\n",
       "    <tr>\n",
       "      <th>race_id.1</th>\n",
       "      <td>198605020811</td>\n",
       "      <td>198605020811</td>\n",
       "      <td>198605020811</td>\n",
       "      <td>198605020811</td>\n",
       "      <td>198605020811</td>\n",
       "    </tr>\n",
       "    <tr>\n",
       "      <th>arrival_order</th>\n",
       "      <td>1.0</td>\n",
       "      <td>2.0</td>\n",
       "      <td>3.0</td>\n",
       "      <td>4.0</td>\n",
       "      <td>5.0</td>\n",
       "    </tr>\n",
       "    <tr>\n",
       "      <th>frame_no</th>\n",
       "      <td>7</td>\n",
       "      <td>8</td>\n",
       "      <td>6</td>\n",
       "      <td>5</td>\n",
       "      <td>8</td>\n",
       "    </tr>\n",
       "    <tr>\n",
       "      <th>horse_no</th>\n",
       "      <td>9</td>\n",
       "      <td>10</td>\n",
       "      <td>6</td>\n",
       "      <td>5</td>\n",
       "      <td>11</td>\n",
       "    </tr>\n",
       "    <tr>\n",
       "      <th>horse_name</th>\n",
       "      <td>ギャロップダイナ</td>\n",
       "      <td>ホリノカチドキ</td>\n",
       "      <td>ロングハヤブサ</td>\n",
       "      <td>ドウカンヤシマ</td>\n",
       "      <td>トーアファルコン</td>\n",
       "    </tr>\n",
       "    <tr>\n",
       "      <th>horse_id</th>\n",
       "      <td>1980101941</td>\n",
       "      <td>1982103167</td>\n",
       "      <td>1981104817</td>\n",
       "      <td>1980103534</td>\n",
       "      <td>1981100431</td>\n",
       "    </tr>\n",
       "    <tr>\n",
       "      <th>horse_sex</th>\n",
       "      <td>Male</td>\n",
       "      <td>Male</td>\n",
       "      <td>Male</td>\n",
       "      <td>Male</td>\n",
       "      <td>Male</td>\n",
       "    </tr>\n",
       "    <tr>\n",
       "      <th>horse_age</th>\n",
       "      <td>7</td>\n",
       "      <td>5</td>\n",
       "      <td>6</td>\n",
       "      <td>7</td>\n",
       "      <td>6</td>\n",
       "    </tr>\n",
       "    <tr>\n",
       "      <th>horse_weight</th>\n",
       "      <td>520.0</td>\n",
       "      <td>530.0</td>\n",
       "      <td>498.0</td>\n",
       "      <td>478.0</td>\n",
       "      <td>580.0</td>\n",
       "    </tr>\n",
       "    <tr>\n",
       "      <th>horse_weight_change</th>\n",
       "      <td>0.0</td>\n",
       "      <td>2.0</td>\n",
       "      <td>2.0</td>\n",
       "      <td>2.0</td>\n",
       "      <td>10.0</td>\n",
       "    </tr>\n",
       "    <tr>\n",
       "      <th>jockey_name</th>\n",
       "      <td>柴崎勇</td>\n",
       "      <td>岡部幸雄</td>\n",
       "      <td>菅原泰夫</td>\n",
       "      <td>大塚栄三</td>\n",
       "      <td>河内洋</td>\n",
       "    </tr>\n",
       "    <tr>\n",
       "      <th>jockey_weight</th>\n",
       "      <td>57.0</td>\n",
       "      <td>57.0</td>\n",
       "      <td>57.0</td>\n",
       "      <td>57.0</td>\n",
       "      <td>57.0</td>\n",
       "    </tr>\n",
       "    <tr>\n",
       "      <th>seconds_total</th>\n",
       "      <td>95.5</td>\n",
       "      <td>95.8</td>\n",
       "      <td>96.2</td>\n",
       "      <td>96.7</td>\n",
       "      <td>96.7</td>\n",
       "    </tr>\n",
       "    <tr>\n",
       "      <th>seconds_3f</th>\n",
       "      <td>48.2</td>\n",
       "      <td>48.9</td>\n",
       "      <td>49.2</td>\n",
       "      <td>48.8</td>\n",
       "      <td>49.4</td>\n",
       "    </tr>\n",
       "    <tr>\n",
       "      <th>odds</th>\n",
       "      <td>2.8</td>\n",
       "      <td>9.0</td>\n",
       "      <td>5.3</td>\n",
       "      <td>48.0</td>\n",
       "      <td>3.6</td>\n",
       "    </tr>\n",
       "    <tr>\n",
       "      <th>popularity_order</th>\n",
       "      <td>1.0</td>\n",
       "      <td>6.0</td>\n",
       "      <td>3.0</td>\n",
       "      <td>9.0</td>\n",
       "      <td>2.0</td>\n",
       "    </tr>\n",
       "    <tr>\n",
       "      <th>trainer_name</th>\n",
       "      <td>矢野進</td>\n",
       "      <td>服部正利</td>\n",
       "      <td>小林稔</td>\n",
       "      <td>田中朋次</td>\n",
       "      <td>服部正利</td>\n",
       "    </tr>\n",
       "    <tr>\n",
       "      <th>trainer_affiliation</th>\n",
       "      <td>東</td>\n",
       "      <td>西</td>\n",
       "      <td>西</td>\n",
       "      <td>東</td>\n",
       "      <td>西</td>\n",
       "    </tr>\n",
       "    <tr>\n",
       "      <th>owner_name</th>\n",
       "      <td>社台レースホース</td>\n",
       "      <td>堀内正男</td>\n",
       "      <td>中井長一</td>\n",
       "      <td>新井興業</td>\n",
       "      <td>伊藤昭二</td>\n",
       "    </tr>\n",
       "    <tr>\n",
       "      <th>prize</th>\n",
       "      <td>5400.0</td>\n",
       "      <td>2200.0</td>\n",
       "      <td>1400.0</td>\n",
       "      <td>810.0</td>\n",
       "      <td>540.0</td>\n",
       "    </tr>\n",
       "    <tr>\n",
       "      <th>speed_total</th>\n",
       "      <td>60.314136</td>\n",
       "      <td>60.125261</td>\n",
       "      <td>59.87526</td>\n",
       "      <td>59.565667</td>\n",
       "      <td>59.565667</td>\n",
       "    </tr>\n",
       "    <tr>\n",
       "      <th>speed_3f</th>\n",
       "      <td>44.813278</td>\n",
       "      <td>44.171779</td>\n",
       "      <td>43.902439</td>\n",
       "      <td>44.262295</td>\n",
       "      <td>43.724696</td>\n",
       "    </tr>\n",
       "    <tr>\n",
       "      <th>distance_class</th>\n",
       "      <td>mile</td>\n",
       "      <td>mile</td>\n",
       "      <td>mile</td>\n",
       "      <td>mile</td>\n",
       "      <td>mile</td>\n",
       "    </tr>\n",
       "    <tr>\n",
       "      <th>hover_text</th>\n",
       "      <td>&lt;b&gt;ギャロップダイナ&lt;/b&gt; (7歳) &lt;br&gt;&lt;br&gt;\\n    レース：第36回安田記...</td>\n",
       "      <td>&lt;b&gt;ホリノカチドキ&lt;/b&gt; (5歳) &lt;br&gt;&lt;br&gt;\\n    レース：第36回安田記念...</td>\n",
       "      <td>&lt;b&gt;ロングハヤブサ&lt;/b&gt; (6歳) &lt;br&gt;&lt;br&gt;\\n    レース：第36回安田記念...</td>\n",
       "      <td>&lt;b&gt;ドウカンヤシマ&lt;/b&gt; (7歳) &lt;br&gt;&lt;br&gt;\\n    レース：第36回安田記念...</td>\n",
       "      <td>&lt;b&gt;トーアファルコン&lt;/b&gt; (6歳) &lt;br&gt;&lt;br&gt;\\n    レース：第36回安田記...</td>\n",
       "    </tr>\n",
       "  </tbody>\n",
       "</table>\n",
       "</div>"
      ],
      "text/plain": [
       "                                                                     0  \\\n",
       "race_id                                                   198605020811   \n",
       "date                                                        1986-05-11   \n",
       "place                                                               東京   \n",
       "race_name                                                 第36回安田記念(G1)   \n",
       "distance                                                          1600   \n",
       "dart                                                             False   \n",
       "dart_cond                                                         None   \n",
       "turf                                                              True   \n",
       "turf_cond                                                            良   \n",
       "steeple                                                          False   \n",
       "direction                                                        Right   \n",
       "weather                                                              曇   \n",
       "start_time                                                       15:45   \n",
       "title                                                             安田記念   \n",
       "grade                                                               G1   \n",
       "race_id.1                                                 198605020811   \n",
       "arrival_order                                                      1.0   \n",
       "frame_no                                                             7   \n",
       "horse_no                                                             9   \n",
       "horse_name                                                    ギャロップダイナ   \n",
       "horse_id                                                    1980101941   \n",
       "horse_sex                                                         Male   \n",
       "horse_age                                                            7   \n",
       "horse_weight                                                     520.0   \n",
       "horse_weight_change                                                0.0   \n",
       "jockey_name                                                        柴崎勇   \n",
       "jockey_weight                                                     57.0   \n",
       "seconds_total                                                     95.5   \n",
       "seconds_3f                                                        48.2   \n",
       "odds                                                               2.8   \n",
       "popularity_order                                                   1.0   \n",
       "trainer_name                                                       矢野進   \n",
       "trainer_affiliation                                                  東   \n",
       "owner_name                                                    社台レースホース   \n",
       "prize                                                           5400.0   \n",
       "speed_total                                                  60.314136   \n",
       "speed_3f                                                     44.813278   \n",
       "distance_class                                                    mile   \n",
       "hover_text           <b>ギャロップダイナ</b> (7歳) <br><br>\\n    レース：第36回安田記...   \n",
       "\n",
       "                                                                     1  \\\n",
       "race_id                                                   198605020811   \n",
       "date                                                        1986-05-11   \n",
       "place                                                               東京   \n",
       "race_name                                                 第36回安田記念(G1)   \n",
       "distance                                                          1600   \n",
       "dart                                                             False   \n",
       "dart_cond                                                         None   \n",
       "turf                                                              True   \n",
       "turf_cond                                                            良   \n",
       "steeple                                                          False   \n",
       "direction                                                        Right   \n",
       "weather                                                              曇   \n",
       "start_time                                                       15:45   \n",
       "title                                                             安田記念   \n",
       "grade                                                               G1   \n",
       "race_id.1                                                 198605020811   \n",
       "arrival_order                                                      2.0   \n",
       "frame_no                                                             8   \n",
       "horse_no                                                            10   \n",
       "horse_name                                                     ホリノカチドキ   \n",
       "horse_id                                                    1982103167   \n",
       "horse_sex                                                         Male   \n",
       "horse_age                                                            5   \n",
       "horse_weight                                                     530.0   \n",
       "horse_weight_change                                                2.0   \n",
       "jockey_name                                                       岡部幸雄   \n",
       "jockey_weight                                                     57.0   \n",
       "seconds_total                                                     95.8   \n",
       "seconds_3f                                                        48.9   \n",
       "odds                                                               9.0   \n",
       "popularity_order                                                   6.0   \n",
       "trainer_name                                                      服部正利   \n",
       "trainer_affiliation                                                  西   \n",
       "owner_name                                                        堀内正男   \n",
       "prize                                                           2200.0   \n",
       "speed_total                                                  60.125261   \n",
       "speed_3f                                                     44.171779   \n",
       "distance_class                                                    mile   \n",
       "hover_text           <b>ホリノカチドキ</b> (5歳) <br><br>\\n    レース：第36回安田記念...   \n",
       "\n",
       "                                                                     2  \\\n",
       "race_id                                                   198605020811   \n",
       "date                                                        1986-05-11   \n",
       "place                                                               東京   \n",
       "race_name                                                 第36回安田記念(G1)   \n",
       "distance                                                          1600   \n",
       "dart                                                             False   \n",
       "dart_cond                                                         None   \n",
       "turf                                                              True   \n",
       "turf_cond                                                            良   \n",
       "steeple                                                          False   \n",
       "direction                                                        Right   \n",
       "weather                                                              曇   \n",
       "start_time                                                       15:45   \n",
       "title                                                             安田記念   \n",
       "grade                                                               G1   \n",
       "race_id.1                                                 198605020811   \n",
       "arrival_order                                                      3.0   \n",
       "frame_no                                                             6   \n",
       "horse_no                                                             6   \n",
       "horse_name                                                     ロングハヤブサ   \n",
       "horse_id                                                    1981104817   \n",
       "horse_sex                                                         Male   \n",
       "horse_age                                                            6   \n",
       "horse_weight                                                     498.0   \n",
       "horse_weight_change                                                2.0   \n",
       "jockey_name                                                       菅原泰夫   \n",
       "jockey_weight                                                     57.0   \n",
       "seconds_total                                                     96.2   \n",
       "seconds_3f                                                        49.2   \n",
       "odds                                                               5.3   \n",
       "popularity_order                                                   3.0   \n",
       "trainer_name                                                       小林稔   \n",
       "trainer_affiliation                                                  西   \n",
       "owner_name                                                        中井長一   \n",
       "prize                                                           1400.0   \n",
       "speed_total                                                   59.87526   \n",
       "speed_3f                                                     43.902439   \n",
       "distance_class                                                    mile   \n",
       "hover_text           <b>ロングハヤブサ</b> (6歳) <br><br>\\n    レース：第36回安田記念...   \n",
       "\n",
       "                                                                     3  \\\n",
       "race_id                                                   198605020811   \n",
       "date                                                        1986-05-11   \n",
       "place                                                               東京   \n",
       "race_name                                                 第36回安田記念(G1)   \n",
       "distance                                                          1600   \n",
       "dart                                                             False   \n",
       "dart_cond                                                         None   \n",
       "turf                                                              True   \n",
       "turf_cond                                                            良   \n",
       "steeple                                                          False   \n",
       "direction                                                        Right   \n",
       "weather                                                              曇   \n",
       "start_time                                                       15:45   \n",
       "title                                                             安田記念   \n",
       "grade                                                               G1   \n",
       "race_id.1                                                 198605020811   \n",
       "arrival_order                                                      4.0   \n",
       "frame_no                                                             5   \n",
       "horse_no                                                             5   \n",
       "horse_name                                                     ドウカンヤシマ   \n",
       "horse_id                                                    1980103534   \n",
       "horse_sex                                                         Male   \n",
       "horse_age                                                            7   \n",
       "horse_weight                                                     478.0   \n",
       "horse_weight_change                                                2.0   \n",
       "jockey_name                                                       大塚栄三   \n",
       "jockey_weight                                                     57.0   \n",
       "seconds_total                                                     96.7   \n",
       "seconds_3f                                                        48.8   \n",
       "odds                                                              48.0   \n",
       "popularity_order                                                   9.0   \n",
       "trainer_name                                                      田中朋次   \n",
       "trainer_affiliation                                                  東   \n",
       "owner_name                                                        新井興業   \n",
       "prize                                                            810.0   \n",
       "speed_total                                                  59.565667   \n",
       "speed_3f                                                     44.262295   \n",
       "distance_class                                                    mile   \n",
       "hover_text           <b>ドウカンヤシマ</b> (7歳) <br><br>\\n    レース：第36回安田記念...   \n",
       "\n",
       "                                                                     4  \n",
       "race_id                                                   198605020811  \n",
       "date                                                        1986-05-11  \n",
       "place                                                               東京  \n",
       "race_name                                                 第36回安田記念(G1)  \n",
       "distance                                                          1600  \n",
       "dart                                                             False  \n",
       "dart_cond                                                         None  \n",
       "turf                                                              True  \n",
       "turf_cond                                                            良  \n",
       "steeple                                                          False  \n",
       "direction                                                        Right  \n",
       "weather                                                              曇  \n",
       "start_time                                                       15:45  \n",
       "title                                                             安田記念  \n",
       "grade                                                               G1  \n",
       "race_id.1                                                 198605020811  \n",
       "arrival_order                                                      5.0  \n",
       "frame_no                                                             8  \n",
       "horse_no                                                            11  \n",
       "horse_name                                                    トーアファルコン  \n",
       "horse_id                                                    1981100431  \n",
       "horse_sex                                                         Male  \n",
       "horse_age                                                            6  \n",
       "horse_weight                                                     580.0  \n",
       "horse_weight_change                                               10.0  \n",
       "jockey_name                                                        河内洋  \n",
       "jockey_weight                                                     57.0  \n",
       "seconds_total                                                     96.7  \n",
       "seconds_3f                                                        49.4  \n",
       "odds                                                               3.6  \n",
       "popularity_order                                                   2.0  \n",
       "trainer_name                                                      服部正利  \n",
       "trainer_affiliation                                                  西  \n",
       "owner_name                                                        伊藤昭二  \n",
       "prize                                                            540.0  \n",
       "speed_total                                                  59.565667  \n",
       "speed_3f                                                     43.724696  \n",
       "distance_class                                                    mile  \n",
       "hover_text           <b>トーアファルコン</b> (6歳) <br><br>\\n    レース：第36回安田記...  "
      ]
     },
     "execution_count": 75,
     "metadata": {},
     "output_type": "execute_result"
    }
   ],
   "source": [
    "df_all.head().T"
   ]
  },
  {
   "cell_type": "code",
   "execution_count": 76,
   "metadata": {},
   "outputs": [],
   "source": [
    "fig = subplots_scatter_by_distance_class(df_all)\n",
    "fig.write_html(f'{DIR_OUT}/scatter_all.html')"
   ]
  },
  {
   "cell_type": "markdown",
   "metadata": {},
   "source": [
    "### ウマ娘ごと（`horses/scatter_{horse_name}.html`）"
   ]
  },
  {
   "cell_type": "code",
   "execution_count": 77,
   "metadata": {},
   "outputs": [],
   "source": [
    "df_all = pd.read_csv(os.path.join(DIR_IN, FN_ALL))\n",
    "# ホバー表示用のカラムを追加\n",
    "df_all = add_hover_text_to_df(df_all)"
   ]
  },
  {
   "cell_type": "code",
   "execution_count": 78,
   "metadata": {},
   "outputs": [],
   "source": [
    "df_um = pd.read_csv(os.path.join(DIR_IN, FN_UM))"
   ]
  },
  {
   "cell_type": "code",
   "execution_count": 79,
   "metadata": {},
   "outputs": [],
   "source": [
    "# 以下いずれかを満たすウマ娘をプロット対象とする\n",
    "## 条件1. ウマ娘に登場していること\n",
    "ums_um = set(df_um['horse_name'].unique())\n",
    "\n",
    "## 条件2. 獲得賞金トップ50に入っていること\n",
    "df_tmp = \\\n",
    "    df_all.groupby('horse_id')[['horse_name', 'prize']].\\\n",
    "    agg({'horse_name':max, 'prize':sum}).\\\n",
    "    sort_values(by='prize', ascending=False).reset_index().head(50)\n",
    "ums_prize = set(df_tmp['horse_name'].unique())\n",
    "\n",
    "## 和集合\n",
    "ums = ums_um | ums_prize"
   ]
  },
  {
   "cell_type": "code",
   "execution_count": 80,
   "metadata": {},
   "outputs": [],
   "source": [
    "# 上記のうち，馬名が重複する馬が存在しないか検証\n",
    "df_tmp = df_all[df_all['horse_name'].isin(ums)].groupby('horse_name')\\\n",
    "    ['horse_id'].nunique().reset_index()\n",
    "assert (df_tmp['horse_id'] > 1).sum() == 0"
   ]
  },
  {
   "cell_type": "code",
   "execution_count": 81,
   "metadata": {},
   "outputs": [
    {
     "data": {
      "text/plain": [
       "{'シンボリルドルフ', 'ハルウララ', 'マルゼンスキー', 'ミスターシービー'}"
      ]
     },
     "execution_count": 81,
     "metadata": {},
     "output_type": "execute_result"
    }
   ],
   "source": [
    "# 上記のうち，df_all中に存在しない馬\n",
    "ums - set(df_all['horse_name'].unique())"
   ]
  },
  {
   "cell_type": "markdown",
   "metadata": {},
   "source": [
    "- シンボリルドルフ：1985-12-22の有馬記念を最後に表舞台から姿を消す\n",
    "- ハルウララ：高知競馬場を中心に活躍したため，中央競馬における出走記録なし\n",
    "- マルゼンスキー：1977-7-24の短距離Sを最後に表舞台から姿を消す\n",
    "- ミスターシービー：1985-4-29の天皇賞（春）を最後に表舞台から姿を消す"
   ]
  },
  {
   "cell_type": "code",
   "execution_count": 82,
   "metadata": {},
   "outputs": [
    {
     "data": {
      "text/plain": [
       "98"
      ]
     },
     "execution_count": 82,
     "metadata": {},
     "output_type": "execute_result"
    }
   ],
   "source": [
    "ums = ums & set(df_all['horse_name'].unique())\n",
    "# プロット対象とするウマ娘+競走馬の数\n",
    "len(ums)"
   ]
  },
  {
   "cell_type": "code",
   "execution_count": 83,
   "metadata": {},
   "outputs": [
    {
     "data": {
      "application/vnd.jupyter.widget-view+json": {
       "model_id": "f4178b8657b543639c49b7ed58f9eb11",
       "version_major": 2,
       "version_minor": 0
      },
      "text/plain": [
       "  0%|          | 0/98 [00:00<?, ?it/s]"
      ]
     },
     "metadata": {},
     "output_type": "display_data"
    }
   ],
   "source": [
    "for um in tqdm(ums):\n",
    "    # 注目するレース結果のみ抽出\n",
    "    df_star = \\\n",
    "        df_all[df_all['horse_name']==um].\\\n",
    "        reset_index(drop=True)\n",
    "    fig = subplots_two_scatters_by_distance_class(df_all, df_star)\n",
    "    fig.write_html(f'{DIR_OUT}/horses/scatter_{um}.html')"
   ]
  },
  {
   "cell_type": "markdown",
   "metadata": {},
   "source": [
    "### タイトルごと（`titles/scatter_{title}.html`）"
   ]
  },
  {
   "cell_type": "code",
   "execution_count": 84,
   "metadata": {},
   "outputs": [],
   "source": [
    "df_all = pd.read_csv(os.path.join(DIR_IN, FN_ALL))\n",
    "# ホバー表示用のカラムを追加\n",
    "df_all = add_hover_text_to_df(df_all)"
   ]
  },
  {
   "cell_type": "code",
   "execution_count": 85,
   "metadata": {},
   "outputs": [],
   "source": [
    "df_tmp = df_all.groupby('title')['grade'].unique().reset_index()\n",
    "df_tmp['grade'] = df_tmp['grade'].apply(lambda x: '_'.join(x))\n",
    "df_tmp['fn'] = df_tmp[['title', 'grade']].apply(\n",
    "    lambda x: f'{x[1]}_{x[0]}', axis=1)\n",
    "title2fn = df_tmp.groupby('title')['fn'].first().to_dict()"
   ]
  },
  {
   "cell_type": "code",
   "execution_count": 86,
   "metadata": {},
   "outputs": [
    {
     "data": {
      "application/vnd.jupyter.widget-view+json": {
       "model_id": "4bdefacea7db4904978f68352416a8e7",
       "version_major": 2,
       "version_minor": 0
      },
      "text/plain": [
       "  0%|          | 0/274 [00:00<?, ?it/s]"
      ]
     },
     "metadata": {},
     "output_type": "display_data"
    }
   ],
   "source": [
    "for title, fn in tqdm(title2fn.items()):\n",
    "    # 注目するレース結果のみ抽出\n",
    "    ## 賞金を獲得した馬のみ\n",
    "    df_star = \\\n",
    "        df_all[(df_all['title']==title)&(df_all['prize']>0)].\\\n",
    "        reset_index(drop=True)\n",
    "    fig = subplots_two_scatters_by_distance_class(df_all, df_star)\n",
    "    fig.write_html(f'{DIR_OUT}/titles/scatter_{fn}.html')"
   ]
  },
  {
   "cell_type": "markdown",
   "metadata": {},
   "source": [
    "### 適性ごと（`indices/scatter_{index}_A.html`）"
   ]
  },
  {
   "cell_type": "code",
   "execution_count": 87,
   "metadata": {},
   "outputs": [],
   "source": [
    "df_all = pd.read_csv(os.path.join(DIR_IN, FN_ALL))\n",
    "# ホバー表示用のカラムを追加\n",
    "df_all = add_hover_text_to_df(df_all)"
   ]
  },
  {
   "cell_type": "code",
   "execution_count": 88,
   "metadata": {},
   "outputs": [],
   "source": [
    "df_um = pd.read_csv(os.path.join(DIR_IN, FN_UM))"
   ]
  },
  {
   "cell_type": "code",
   "execution_count": 89,
   "metadata": {},
   "outputs": [
    {
     "data": {
      "application/vnd.jupyter.widget-view+json": {
       "model_id": "711cec2cf62d4c27aeb84f965ae6a68a",
       "version_major": 2,
       "version_minor": 0
      },
      "text/plain": [
       "  0%|          | 0/10 [00:00<?, ?it/s]"
      ]
     },
     "metadata": {},
     "output_type": "display_data"
    }
   ],
   "source": [
    "for index, index_fn in tqdm(INDICES.items()):\n",
    "    ums = df_um[df_um[index]=='A']['horse_name'].unique()\n",
    "    df_star = \\\n",
    "        df_all[df_all['horse_name'].isin(ums)].\\\n",
    "        reset_index(drop=True)\n",
    "    fig = subplots_two_scatters_by_distance_class(\n",
    "            df_all, df_star)\n",
    "    fn = f'{index_fn}_A'\n",
    "    fig.write_html(\n",
    "        f'{DIR_OUT}/indices/scatter_{fn}.html')"
   ]
  },
  {
   "cell_type": "markdown",
   "metadata": {},
   "source": [
    "### 比較（`vs/scatter_{horse_name_0}_{horse_name_1}.html`）"
   ]
  },
  {
   "cell_type": "code",
   "execution_count": 90,
   "metadata": {},
   "outputs": [],
   "source": [
    "ums_vs = [\n",
    "    ['トウカイテイオー', 'メジロマックイーン'],\n",
    "    ['スペシャルウィーク', 'サイレンススズカ'],\n",
    "    ['ウオッカ', 'ダイワスカーレット'],\n",
    "    ['キタサンブラック', 'サトノダイヤモンド'],\n",
    "    ['ライスシャワー', 'メジロマックイーン'],\n",
    "    ['トウカイテイオー', 'ツインターボ'],\n",
    "]"
   ]
  },
  {
   "cell_type": "code",
   "execution_count": 91,
   "metadata": {},
   "outputs": [],
   "source": [
    "df_all = pd.read_csv(os.path.join(DIR_IN, FN_ALL))\n",
    "# ホバー表示用のカラムを追加\n",
    "df_all = add_hover_text_to_df(df_all)"
   ]
  },
  {
   "cell_type": "code",
   "execution_count": 92,
   "metadata": {},
   "outputs": [
    {
     "data": {
      "application/vnd.jupyter.widget-view+json": {
       "model_id": "b368615112234c92b30510fc155c0f80",
       "version_major": 2,
       "version_minor": 0
      },
      "text/plain": [
       "  0%|          | 0/6 [00:00<?, ?it/s]"
      ]
     },
     "metadata": {},
     "output_type": "display_data"
    }
   ],
   "source": [
    "for [um0, um1] in tqdm(ums_vs):\n",
    "    # 注目するレース結果のみ抽出\n",
    "    df_star = \\\n",
    "        df_all[df_all['horse_name']==um0].\\\n",
    "        reset_index(drop=True)\n",
    "    df_tri = \\\n",
    "        df_all[df_all['horse_name']==um1].\\\n",
    "        reset_index(drop=True)\n",
    "    fig = subplots_three_scatters_by_distance_class(\n",
    "            df_all, df_star, df_tri)\n",
    "    fig.write_html(f'{DIR_OUT}/vs/scatter_{um0}_{um1}.html')"
   ]
  },
  {
   "cell_type": "code",
   "execution_count": null,
   "metadata": {},
   "outputs": [],
   "source": []
  },
  {
   "cell_type": "code",
   "execution_count": null,
   "metadata": {},
   "outputs": [],
   "source": []
  },
  {
   "cell_type": "code",
   "execution_count": null,
   "metadata": {},
   "outputs": [],
   "source": []
  }
 ],
 "metadata": {
  "kernelspec": {
   "display_name": "Python 3 (ipykernel)",
   "language": "python",
   "name": "python3"
  },
  "language_info": {
   "codemirror_mode": {
    "name": "ipython",
    "version": 3
   },
   "file_extension": ".py",
   "mimetype": "text/x-python",
   "name": "python",
   "nbconvert_exporter": "python",
   "pygments_lexer": "ipython3",
   "version": "3.9.7"
  }
 },
 "nbformat": 4,
 "nbformat_minor": 4
}
