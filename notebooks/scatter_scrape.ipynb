{
 "cells": [
  {
   "cell_type": "markdown",
   "metadata": {},
   "source": [
    "# スクレイピング\n",
    "\n",
    "https://kamigame.jp/umamusume/page/110667391372886023.html から適正情報を取得する"
   ]
  },
  {
   "cell_type": "markdown",
   "metadata": {},
   "source": [
    "## 環境構築"
   ]
  },
  {
   "cell_type": "code",
   "execution_count": 25,
   "metadata": {},
   "outputs": [],
   "source": [
    "from bs4 import BeautifulSoup\n",
    "import os\n",
    "import pandas as pd\n",
    "import re\n",
    "import requests"
   ]
  },
  {
   "cell_type": "code",
   "execution_count": 26,
   "metadata": {},
   "outputs": [],
   "source": [
    "DIR_OUT = '../data/scatter_scrape'\n",
    "FN_UM = 'umamusume.csv'\n",
    "URL = 'https://kamigame.jp/umamusume/page/110667391372886023.html'"
   ]
  },
  {
   "cell_type": "code",
   "execution_count": 27,
   "metadata": {},
   "outputs": [],
   "source": [
    "# 適正一覧\n",
    "INDICES= [\n",
    "    'turf_index',\n",
    "    'dart_index',\n",
    "    'short_index',\n",
    "    'mile_index',\n",
    "    'intermediate_index',\n",
    "    'long_index',\n",
    "    'nige_index',\n",
    "    'senko_index',\n",
    "    'sashi_index',\n",
    "    'oikomi_index',\n",
    "]"
   ]
  },
  {
   "cell_type": "markdown",
   "metadata": {},
   "source": [
    "## 育成ウマ娘のデータ取得"
   ]
  },
  {
   "cell_type": "code",
   "execution_count": 28,
   "metadata": {},
   "outputs": [],
   "source": [
    "html = requests.get(URL)\n",
    "soup = BeautifulSoup(html.text, \"html.parser\")"
   ]
  },
  {
   "cell_type": "code",
   "execution_count": 29,
   "metadata": {},
   "outputs": [],
   "source": [
    "# ウマ娘の種別と，HTML内の位置関係\n",
    "um_groups = [\n",
    "    {'group': 'three-star', 'table_no': 1},\n",
    "    {'group': 'two-star', 'table_no': 3},\n",
    "    {'group': 'one-star', 'table_no': 5},\n",
    "    {'group': 'unimplemented', 'table_no': 13},\n",
    "]"
   ]
  },
  {
   "cell_type": "code",
   "execution_count": 30,
   "metadata": {},
   "outputs": [],
   "source": [
    "def get_um_name(td):\n",
    "    \"\"\"tdよりウマ娘の名前を取得\n",
    "    td = soup.select('#mainArticle > article > table')[1].\\\n",
    "        find_all('td')[2n]\n",
    "    , where n >= 0\n",
    "    \"\"\"\n",
    "    um_name = td.get_text().replace('\\n', '')\n",
    "    return um_name"
   ]
  },
  {
   "cell_type": "code",
   "execution_count": 31,
   "metadata": {},
   "outputs": [],
   "source": [
    "def get_horse_name(td):\n",
    "    \"\"\"tdより競走馬名を取得\n",
    "    td = soup.select('#mainArticle > article > table')[1].\\\n",
    "        find_all('td')[2n]\n",
    "    , where n >= 0\n",
    "    \"\"\"\n",
    "    um_name = get_um_name(td)\n",
    "    # 例：エアグルーヴ（花嫁）からエアグルーヴのみを抽出\n",
    "    horse_name = re.sub('（.*）', '', um_name)\n",
    "    return horse_name"
   ]
  },
  {
   "cell_type": "code",
   "execution_count": 32,
   "metadata": {},
   "outputs": [],
   "source": [
    "def get_um_indices(td):\n",
    "    \"\"\"tdよりウマ娘の適正値を取得\n",
    "        td = soup.select('#mainArticle > article > table')[1].\\\n",
    "        find_all('td')[2n+1]\n",
    "    , where n >= 0\n",
    "    \"\"\"\n",
    "    imgs = td.find_all('img')\n",
    "    alts = [i.get('alt') for i in imgs]\n",
    "    indices = {\n",
    "        i: v for i, v in zip(INDICES, alts)\n",
    "    }\n",
    "    return indices"
   ]
  },
  {
   "cell_type": "code",
   "execution_count": 33,
   "metadata": {},
   "outputs": [],
   "source": [
    "# ウマ娘の情報を格納\n",
    "ums = []\n",
    "\n",
    "for g in um_groups:\n",
    "    group = g['group']\n",
    "    i_table = g['table_no']\n",
    "    \n",
    "    tds = soup.select('#mainArticle > article > table')[i_table].\\\n",
    "        find_all('td')\n",
    "    assert len(tds) % 2 == 0\n",
    "    n_um = len(tds) // 2\n",
    "    \n",
    "    if group != 'umimplemented':\n",
    "        # 実装されたウマ娘は，偶数番目から名称，奇数番目から適正を抽出する\n",
    "        for n in range(len(tds) // 2):\n",
    "            um = {\n",
    "                'um_name': get_um_name(tds[2 * n]),\n",
    "                'horse_name': get_horse_name(tds[2 * n])}\n",
    "            um.update(get_um_indices(tds[2 * n + 1]))\n",
    "            um['group'] = group\n",
    "            ums.append(um)\n",
    "    else:\n",
    "        # 未実装のウマ娘には適正情報がない\n",
    "        for n in range(len(tds)):\n",
    "            um = {'um_name': get_um_name(tds[n]),\n",
    "                  'horse_name': get_horse_name(tds[n])}\n",
    "            um['group'] = group\n",
    "            ums.append(um)"
   ]
  },
  {
   "cell_type": "code",
   "execution_count": 34,
   "metadata": {},
   "outputs": [],
   "source": [
    "# DataFrame化\n",
    "df_um = pd.DataFrame(ums)"
   ]
  },
  {
   "cell_type": "code",
   "execution_count": 35,
   "metadata": {},
   "outputs": [],
   "source": [
    "# 新衣装等の追加でウマ娘の適正が変わっていないか，念の為確認\n",
    "# 例：エアグルーヴ vs エアグルーヴ（花嫁）\n",
    "\n",
    "## horse_nameが重複している数を集計\n",
    "df_counts = df_um['horse_name'].value_counts().reset_index()\n",
    "df_counts.columns = ['horse_name', 'counts']\n",
    "\n",
    "for r in df_counts.to_dict('records'):\n",
    "    if r['counts'] > 1:\n",
    "        df_tmp = df_um[df_um['horse_name']==r['horse_name']].\\\n",
    "            reset_index(drop=True)\n",
    "        # 重複した行数\n",
    "        n_dup = df_tmp[INDICES].duplicated().sum()\n",
    "        # 最初の1行以外全て重複している（脚質等の情報が変わっていない）か\n",
    "        assert df_tmp.shape[0] - n_dup == 1"
   ]
  },
  {
   "cell_type": "markdown",
   "metadata": {},
   "source": [
    "大丈夫そう"
   ]
  },
  {
   "cell_type": "code",
   "execution_count": 36,
   "metadata": {},
   "outputs": [
    {
     "data": {
      "text/html": [
       "<div>\n",
       "<style scoped>\n",
       "    .dataframe tbody tr th:only-of-type {\n",
       "        vertical-align: middle;\n",
       "    }\n",
       "\n",
       "    .dataframe tbody tr th {\n",
       "        vertical-align: top;\n",
       "    }\n",
       "\n",
       "    .dataframe thead th {\n",
       "        text-align: right;\n",
       "    }\n",
       "</style>\n",
       "<table border=\"1\" class=\"dataframe\">\n",
       "  <thead>\n",
       "    <tr style=\"text-align: right;\">\n",
       "      <th></th>\n",
       "      <th>0</th>\n",
       "      <th>1</th>\n",
       "      <th>2</th>\n",
       "      <th>3</th>\n",
       "      <th>4</th>\n",
       "    </tr>\n",
       "  </thead>\n",
       "  <tbody>\n",
       "    <tr>\n",
       "      <th>um_name</th>\n",
       "      <td>アグネスデジタル</td>\n",
       "      <td>エアグルーヴ（花嫁）</td>\n",
       "      <td>エイシンフラッシュ</td>\n",
       "      <td>エルコンドルパサー（新衣装）</td>\n",
       "      <td>オグリキャップ</td>\n",
       "    </tr>\n",
       "    <tr>\n",
       "      <th>horse_name</th>\n",
       "      <td>アグネスデジタル</td>\n",
       "      <td>エアグルーヴ</td>\n",
       "      <td>エイシンフラッシュ</td>\n",
       "      <td>エルコンドルパサー</td>\n",
       "      <td>オグリキャップ</td>\n",
       "    </tr>\n",
       "    <tr>\n",
       "      <th>turf_index</th>\n",
       "      <td>A</td>\n",
       "      <td>A</td>\n",
       "      <td>A</td>\n",
       "      <td>A</td>\n",
       "      <td>A</td>\n",
       "    </tr>\n",
       "    <tr>\n",
       "      <th>dart_index</th>\n",
       "      <td>A</td>\n",
       "      <td>G</td>\n",
       "      <td>G</td>\n",
       "      <td>B</td>\n",
       "      <td>B</td>\n",
       "    </tr>\n",
       "    <tr>\n",
       "      <th>short_index</th>\n",
       "      <td>F</td>\n",
       "      <td>C</td>\n",
       "      <td>G</td>\n",
       "      <td>F</td>\n",
       "      <td>E</td>\n",
       "    </tr>\n",
       "    <tr>\n",
       "      <th>mile_index</th>\n",
       "      <td>A</td>\n",
       "      <td>B</td>\n",
       "      <td>F</td>\n",
       "      <td>A</td>\n",
       "      <td>A</td>\n",
       "    </tr>\n",
       "    <tr>\n",
       "      <th>intermediate_index</th>\n",
       "      <td>A</td>\n",
       "      <td>A</td>\n",
       "      <td>A</td>\n",
       "      <td>A</td>\n",
       "      <td>A</td>\n",
       "    </tr>\n",
       "    <tr>\n",
       "      <th>long_index</th>\n",
       "      <td>G</td>\n",
       "      <td>E</td>\n",
       "      <td>A</td>\n",
       "      <td>B</td>\n",
       "      <td>B</td>\n",
       "    </tr>\n",
       "    <tr>\n",
       "      <th>nige_index</th>\n",
       "      <td>G</td>\n",
       "      <td>D</td>\n",
       "      <td>G</td>\n",
       "      <td>E</td>\n",
       "      <td>F</td>\n",
       "    </tr>\n",
       "    <tr>\n",
       "      <th>senko_index</th>\n",
       "      <td>A</td>\n",
       "      <td>A</td>\n",
       "      <td>B</td>\n",
       "      <td>A</td>\n",
       "      <td>A</td>\n",
       "    </tr>\n",
       "    <tr>\n",
       "      <th>sashi_index</th>\n",
       "      <td>A</td>\n",
       "      <td>A</td>\n",
       "      <td>A</td>\n",
       "      <td>A</td>\n",
       "      <td>A</td>\n",
       "    </tr>\n",
       "    <tr>\n",
       "      <th>oikomi_index</th>\n",
       "      <td>B</td>\n",
       "      <td>G</td>\n",
       "      <td>C</td>\n",
       "      <td>C</td>\n",
       "      <td>D</td>\n",
       "    </tr>\n",
       "    <tr>\n",
       "      <th>group</th>\n",
       "      <td>three-star</td>\n",
       "      <td>three-star</td>\n",
       "      <td>three-star</td>\n",
       "      <td>three-star</td>\n",
       "      <td>three-star</td>\n",
       "    </tr>\n",
       "  </tbody>\n",
       "</table>\n",
       "</div>"
      ],
      "text/plain": [
       "                             0           1           2               3  \\\n",
       "um_name               アグネスデジタル  エアグルーヴ（花嫁）   エイシンフラッシュ  エルコンドルパサー（新衣装）   \n",
       "horse_name            アグネスデジタル      エアグルーヴ   エイシンフラッシュ       エルコンドルパサー   \n",
       "turf_index                   A           A           A               A   \n",
       "dart_index                   A           G           G               B   \n",
       "short_index                  F           C           G               F   \n",
       "mile_index                   A           B           F               A   \n",
       "intermediate_index           A           A           A               A   \n",
       "long_index                   G           E           A               B   \n",
       "nige_index                   G           D           G               E   \n",
       "senko_index                  A           A           B               A   \n",
       "sashi_index                  A           A           A               A   \n",
       "oikomi_index                 B           G           C               C   \n",
       "group               three-star  three-star  three-star      three-star   \n",
       "\n",
       "                             4  \n",
       "um_name                オグリキャップ  \n",
       "horse_name             オグリキャップ  \n",
       "turf_index                   A  \n",
       "dart_index                   B  \n",
       "short_index                  E  \n",
       "mile_index                   A  \n",
       "intermediate_index           A  \n",
       "long_index                   B  \n",
       "nige_index                   F  \n",
       "senko_index                  A  \n",
       "sashi_index                  A  \n",
       "oikomi_index                 D  \n",
       "group               three-star  "
      ]
     },
     "execution_count": 36,
     "metadata": {},
     "output_type": "execute_result"
    }
   ],
   "source": [
    "# こんな感じのDataFrameになる\n",
    "df_um.head().T"
   ]
  },
  {
   "cell_type": "code",
   "execution_count": 37,
   "metadata": {},
   "outputs": [],
   "source": [
    "# 保存\n",
    "df_um.to_csv(os.path.join(DIR_OUT, 'umamusume.csv'), index=False)"
   ]
  },
  {
   "cell_type": "code",
   "execution_count": null,
   "metadata": {},
   "outputs": [],
   "source": []
  }
 ],
 "metadata": {
  "kernelspec": {
   "display_name": "Python 3",
   "language": "python",
   "name": "python3"
  },
  "language_info": {
   "codemirror_mode": {
    "name": "ipython",
    "version": 3
   },
   "file_extension": ".py",
   "mimetype": "text/x-python",
   "name": "python",
   "nbconvert_exporter": "python",
   "pygments_lexer": "ipython3",
   "version": "3.7.6"
  }
 },
 "nbformat": 4,
 "nbformat_minor": 4
}
